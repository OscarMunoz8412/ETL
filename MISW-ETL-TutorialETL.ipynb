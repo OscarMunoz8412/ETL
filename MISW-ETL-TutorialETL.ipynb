{
 "cells": [
  {
   "cell_type": "markdown",
   "metadata": {
    "id": "IcY9y56n86vn"
   },
   "source": [
    "# Tutorial: creación de ETLs con PySpark"
   ]
  },
  {
   "cell_type": "markdown",
   "metadata": {
    "id": "gcg5UCbU86vp"
   },
   "source": [
    "## 1. Introducción\t\n",
    "    ¿Qué aprenderá?\n",
    "\tEn este tutorial aprenderá cómo puede utilizar PySpark para crear un proceso de ETL básico.\n",
    "\n",
    "\t¿Qué construirá?     \n",
    "        Construirá un ETL que toma los datos desde la base de datos transacional de WideWorldImporters (WWImportersTransactional), los transforma  a una representación cercana al análisis y los  almacena en la base de datos relacional WWImportersDWH.\n",
    "    \n",
    "\t¿Para qué?\n",
    "\tLa construcción de ETLs que se ajusten a modelos multidimensionales es un paso necesario dentro de un proceso de analìtica 1.0 , pues permite tomar los datos crudos de una fuente, generalmente transaccional, para transformarlos en datos limpios que puedan utilizarse para la toma de decisiones.\n",
    "    \n",
    "    ¿Qué necesita?\n",
    "    1. Python 3 con pip instalado\n",
    "    2. Jupyter notebook\n",
    "    3. Paquetes: Pyspark (3.0.1) y pandas (1.2.1)\n",
    "    4. Controlador Connector J de MySQL (ya se encuentra instalado)\n",
    "    5. Servidor SQL con base de datos relacional \"WWImportersTransactional\" y base de datos relacional que corresponde a la bodega de WWI \"Estudiante_i\"\n",
    "\t"
   ]
  },
  {
   "cell_type": "markdown",
   "metadata": {
    "id": "LqQVz5s686vq"
   },
   "source": [
    "## 2. Proceso de ETL para una dimensión."
   ]
  },
  {
   "cell_type": "markdown",
   "metadata": {
    "id": "A2UT2Ia586vr"
   },
   "source": [
    "En este proceso de ETL, se extraen los datos de las **órdenes de compra** de una base de datos transaccional y se almacenan en otra base de datos que corresponde a la bodega de datos, siguiendo una aproximación ROLAP. A continuación, se presenta el modelo multidimensional que es el modelo conceptual que representa el proceso de registro de órdenes de compra. Este modelo se utilizó para crear las tablas en la bodega de datos que representan el proceso de negocio y que serán cargadas como resultado del proceso ETL. \n",
    "\n",
    "Tenga en cuenta que las llaves ID_XXXX presentes en el modelo hacen referencia a las llaves de la bodega. Por otra parte, en el proceso de ETL se van a tener en cuenta las llaves transaccionales (**WWImportersTransactional**). La nomenclatura para utilizar es:\n",
    "\n",
    "1.   ID_XXXX_DWH, para las llaves de la bodega.\n",
    "2.   ID_XXXX_T, para las llaves transaccionales.\n"
   ]
  },
  {
   "cell_type": "markdown",
   "metadata": {
    "id": "UpOSEfhX86vs"
   },
   "source": [
    "![Modelo ordenes](./WWI_modelo_ordenes.png)"
   ]
  },
  {
   "cell_type": "markdown",
   "metadata": {
    "id": "rg1M_rdU86vs"
   },
   "source": [
    "El proceso de ETL debe ser diseñado antes de implementarse. A partir de las conclusiones del entendimiento de datos sabemos las fuentes que se van a  utilizar y la relación entre las fuentes. Adicionalmente, se cuenta con las respuestas de la organización a las preguntas, resultado del entendimiento de datos. De esa manera sabemos cómo se deben manipular los datos. \n",
    "\n",
    "Este proceso de ETL lo dividimos en seis bloques, uno para cada dimensión o <i>tabla de hechos</i> del modelo, con la única excepción de la dimensión de fecha que, por ser una dimensión especial que se genera de forma independiente, no se incluye aquí:"
   ]
  },
  {
   "cell_type": "markdown",
   "metadata": {
    "id": "gIa8WW1M86vt"
   },
   "source": [
    "![ETL](./Disenio_ETL.PNG)\n",
    "\n",
    "Recuerde que este es el diseño general. En el diseño completo se deben incluir las transformaciones realizadas a los datos a utilizarse en las dimensiones y tablas de hecho del modelo multidimensional, de acuerdo con lo que se muestra en la infografía de arquitectura de componentes (Componente proceso ETL) "
   ]
  },
  {
   "cell_type": "code",
   "execution_count": 1,
   "metadata": {
    "id": "os1iJYmu86vt"
   },
   "outputs": [],
   "source": [
    "# Configuración servidor base de datos transaccional\n",
    "# Recuerde usar Estudiante_i como usuario y la contraseña asigana en el excel de conexión a maquina virtual como contraseña\n",
    "db_user = 'Estudiante_73_202315'\n",
    "db_psswd = 'aabb1122'\n",
    "source_db_connection_string = 'jdbc:mysql://157.253.236.116:8080/WWImportersTransactional'\n",
    "\n",
    "dest_db_connection_string = 'jdbc:mysql://157.253.236.116:8080/Estudiante_73_202315'\n",
    "\n",
    "# Driver de conexion\n",
    "path_jar_driver = 'C:\\Program Files (x86)\\MySQL\\Connector J 8.0\\mysql-connector-java-8.0.28.jar'"
   ]
  },
  {
   "cell_type": "code",
   "execution_count": 2,
   "metadata": {
    "id": "HAGk_V1986vu"
   },
   "outputs": [],
   "source": [
    "import os \n",
    "from pyspark.sql import functions as f, SparkSession, types as t\n",
    "from pyspark import SparkContext, SparkConf, SQLContext\n",
    "from pyspark.sql.functions import udf, col, length, isnan, when, count, regexp_replace\n",
    "from datetime import datetime"
   ]
  },
  {
   "cell_type": "code",
   "execution_count": 3,
   "metadata": {
    "id": "TQ3DM_Xf86vv",
    "outputId": "f2cdb157-a92d-4edc-a174-6f3bd09b9885"
   },
   "outputs": [
    {
     "name": "stderr",
     "output_type": "stream",
     "text": [
      "C:\\Users\\estudiante\\anaconda3\\envs\\Tutoriales\\lib\\site-packages\\pyspark\\sql\\context.py:79: FutureWarning: Deprecated in 3.0.0. Use SparkSession.builder.getOrCreate() instead.\n",
      "  FutureWarning\n"
     ]
    }
   ],
   "source": [
    "#Configuración de la sesión\n",
    "conf=SparkConf() \\\n",
    "    .set('spark.driver.extraClassPath', path_jar_driver)\n",
    "\n",
    "spark_context = SparkContext(conf=conf)\n",
    "sql_context = SQLContext(spark_context)\n",
    "spark = sql_context.sparkSession"
   ]
  },
  {
   "cell_type": "markdown",
   "metadata": {
    "id": "buA7s-vL86vw"
   },
   "source": [
    "### Conexión y carga de datos"
   ]
  },
  {
   "cell_type": "markdown",
   "metadata": {
    "id": "r_QZ-j9q86vw"
   },
   "source": [
    "Se define la función para conexión y cargue de dataframes desde la base de datos origen y luego la función para guardar un dataframe en una tabla de la base de datos destino."
   ]
  },
  {
   "cell_type": "code",
   "execution_count": 4,
   "metadata": {
    "id": "Mhy0jbh_86vw"
   },
   "outputs": [],
   "source": [
    "def obterner_dataframe_desde_csv(_PATH, _sep):\n",
    "    return spark.read.load(_PATH, format=\"csv\", sep=_sep, inferSchema=\"true\", header='true')\n",
    "\n",
    "def obtener_dataframe_de_bd(db_connection_string, sql, db_user, db_psswd):\n",
    "    df_bd = spark.read.format('jdbc')\\\n",
    "        .option('url', db_connection_string) \\\n",
    "        .option('dbtable', sql) \\\n",
    "        .option('user', db_user) \\\n",
    "        .option('password', db_psswd) \\\n",
    "        .option('driver', 'com.mysql.cj.jdbc.Driver') \\\n",
    "        .load()\n",
    "    return df_bd\n",
    "\n",
    "def guardar_db(db_connection_string, df, tabla, db_user, db_psswd):\n",
    "    df.select('*').write.format('jdbc') \\\n",
    "      .mode('append') \\\n",
    "      .option('url', db_connection_string) \\\n",
    "      .option('dbtable', tabla) \\\n",
    "      .option('user', db_user) \\\n",
    "      .option('password', db_psswd) \\\n",
    "      .option('driver', 'com.mysql.cj.jdbc.Driver') \\\n",
    "      .save()"
   ]
  },
  {
   "cell_type": "markdown",
   "metadata": {
    "id": "ZhFsv4ba86vw"
   },
   "source": [
    "### BLOQUE 1\n",
    "Empezamos con el bloque 1: la dimensión <i>Empleado</i>, su fuente de datos viene de la tabla transaccional <i>Personas</i>. En la sentencia SQL filtramos usando WHERE para seleccionar solo las personas que sean vendedores y recuperamos únicamente los atributos que queremos, de acuerdo con  modelo dimensional. Recuerde que también puede usar el **.select()** de pyspark si no conoce los atributos de las tablas transaccionales. Sin embargo, es más eficiente aplicar el filtro en la consulta, ya que no trae a memoria más información de la necesaria."
   ]
  },
  {
   "cell_type": "markdown",
   "metadata": {
    "id": "XNKxFA-f86vx"
   },
   "source": [
    "#### Extracción\n",
    "A continuación, nos conectamos a la base de datos y extraemos la información deseada por medio de SQL, cargandola en un DataFrame PySpark, es decir en memoria. Note que aquí se pueden renombrar los atributos con la estructura <i>nombreActual AS nuevoNombre</i>. De la tabla de personas, En este paso, solo nos interesan los empleados, por lo cual se hace un filtro por medio del WHERE, buscando las personas cuyo atributo EsVendedor sea igual a 1."
   ]
  },
  {
   "cell_type": "code",
   "execution_count": 5,
   "metadata": {
    "id": "IopBNYuc86vx",
    "outputId": "0589f8a9-527e-4b28-d096-a176efd48e97"
   },
   "outputs": [
    {
     "name": "stdout",
     "output_type": "stream",
     "text": [
      "+-----------+------------------+----------+\n",
      "|ID_Empleado|            Nombre|EsVendedor|\n",
      "+-----------+------------------+----------+\n",
      "|          2|    Kayla Woodcock|      true|\n",
      "|          3|     Hudson Onslow|      true|\n",
      "|          6|     Sophia Hinton|      true|\n",
      "|          7|         Amy Trefl|      true|\n",
      "|          8|    Anthony Grosse|      true|\n",
      "|         13|Hudson Hollinworth|      true|\n",
      "|         14|         Lily Code|      true|\n",
      "|         15|         Taj Shand|      true|\n",
      "|         16|     Archer Lamble|      true|\n",
      "|         20|       Jack Potter|      true|\n",
      "+-----------+------------------+----------+\n",
      "\n"
     ]
    }
   ],
   "source": [
    "sql_empleados = '''(SELECT DISTINCT ID_persona AS ID_Empleado, NombreCompleto AS Nombre, EsVendedor FROM WWImportersTransactional.Personas WHERE EsVendedor=1) AS Temp_empleados'''\n",
    "empleados = obtener_dataframe_de_bd(source_db_connection_string, sql_empleados, db_user, db_psswd)\n",
    "empleados.show(10)"
   ]
  },
  {
   "cell_type": "markdown",
   "metadata": {
    "id": "vtE61qk986vx"
   },
   "source": [
    "#### Transformación\n",
    "Recuerde que, puede hacer uso de selectExpr, filter, where entre otras de PySpark para modificar los datos cargados. Por ejemplo, el siguiente código utiliza <i>selectExpr</i> para renombrar la columna ID_Empleado por ID_Empleado_T, esta es la convención que vamos a utilizar: \"_T\" para indicar que el ID es el que estaba en la base de datos transaccional y \"_DWH\" para indicar que son ID's propios de la bodega. Usamos withColumn y monotonicallu_increasing_id para crear un ID acumulativo para cada registro en el dataframe"
   ]
  },
  {
   "cell_type": "code",
   "execution_count": 6,
   "metadata": {},
   "outputs": [
    {
     "name": "stdout",
     "output_type": "stream",
     "text": [
      "+---------------+-------------+--------------+\n",
      "|ID_Empleado_DWH|ID_Empleado_T|        Nombre|\n",
      "+---------------+-------------+--------------+\n",
      "|              1|            2|Kayla Woodcock|\n",
      "|              2|            3| Hudson Onslow|\n",
      "|              3|            6| Sophia Hinton|\n",
      "|              4|            7|     Amy Trefl|\n",
      "|              5|            8|Anthony Grosse|\n",
      "+---------------+-------------+--------------+\n",
      "only showing top 5 rows\n",
      "\n"
     ]
    }
   ],
   "source": [
    "# TRANSFORMACION\n",
    "empleados = empleados.selectExpr('ID_Empleado as ID_Empleado_T','Nombre')\n",
    "empleados = empleados.coalesce(1).withColumn('ID_Empleado_DWH', f.monotonically_increasing_id() + 1)\n",
    "empleados = empleados.select('ID_Empleado_DWH','ID_Empleado_T','Nombre')\n",
    "empleados.show(5)"
   ]
  },
  {
   "cell_type": "markdown",
   "metadata": {
    "id": "X9Oou0g986vy"
   },
   "source": [
    "#### Carga\n",
    "Una vez realizado esto, se guardan los resultados en la base de datos destino\n",
    "\n",
    "**OJO** Recuerde antes de guardar los datos que la tabla no exista o este vacía, para que no se guarden los mismos datos varias veces y no ocupar más espacio."
   ]
  },
  {
   "cell_type": "code",
   "execution_count": 8,
   "metadata": {
    "id": "qICUWYCa86vy"
   },
   "outputs": [],
   "source": [
    "# CARGUE\n",
    "guardar_db(dest_db_connection_string, empleados,'Estudiante_73_202315.empleados', db_user, db_psswd)"
   ]
  },
  {
   "cell_type": "markdown",
   "metadata": {
    "id": "K6k37LtO86vy"
   },
   "source": [
    "Verifique los resultados usando MySQL Workbench"
   ]
  },
  {
   "cell_type": "markdown",
   "metadata": {
    "id": "fvj5E1GS86vz"
   },
   "source": [
    "### BLOQUE 2\n",
    "Empezamos el bloque 2: dimensión ciudad. Su fuente de datos es una combinación de las tablas transaccionales <i>paises, provinciasEstados y ciudades</i>"
   ]
  },
  {
   "cell_type": "markdown",
   "metadata": {
    "id": "B5kFkHTD86vz"
   },
   "source": [
    "#### Extracción"
   ]
  },
  {
   "cell_type": "code",
   "execution_count": 9,
   "metadata": {
    "id": "FEW2mcMn86vz",
    "outputId": "a18be86c-fd81-4b56-de5c-bec1f41db118"
   },
   "outputs": [
    {
     "name": "stdout",
     "output_type": "stream",
     "text": [
      "['ID_ciudad_T', 'NombreCiudad', 'ID_EstadoProvincia', 'Poblacion'] ['ID_Pais', 'Nombre', 'Continente', 'Region', 'Subregion'] ['ID_EstadoProvincia', 'NombreEstadoProvincia', 'TerritorioVentas', 'ID_Pais']\n"
     ]
    }
   ],
   "source": [
    "#EXTRACCION\n",
    "sql_paises = '''(SELECT DISTINCT ID_Pais, Nombre, Continente, Region, Subregion FROM WWImportersTransactional.Paises) AS Temp_paises'''\n",
    "sql_provincias_estados = '''(SELECT DISTINCT ID_EstadosProvincias AS ID_EstadoProvincia, NombreEstadoProvincia, TerritorioVentas, ID_Pais FROM WWImportersTransactional.EstadosProvincias) AS Temp_estados_provincias'''\n",
    "sql_ciudades = '''(SELECT DISTINCT ID_ciudad as ID_ciudad_T, NombreCiudad, ID_EstadoProvincia, Poblacion FROM WWImportersTransactional.Ciudades) AS Temp_ciudades'''\n",
    "\n",
    "paises = obtener_dataframe_de_bd(source_db_connection_string, sql_paises, db_user, db_psswd)\n",
    "provincias_estados = obtener_dataframe_de_bd(source_db_connection_string, sql_provincias_estados, db_user, db_psswd)\n",
    "ciudades = obtener_dataframe_de_bd(source_db_connection_string, sql_ciudades, db_user, db_psswd)\n",
    "\n",
    "print(ciudades.columns, paises.columns, provincias_estados.columns)"
   ]
  },
  {
   "cell_type": "markdown",
   "metadata": {
    "id": "ddFhEOmL86vz"
   },
   "source": [
    "#### Transformación"
   ]
  },
  {
   "cell_type": "code",
   "execution_count": 10,
   "metadata": {
    "id": "8un2p4so86v0",
    "outputId": "ba2758d9-aca3-4198-c13c-514bdbf51061"
   },
   "outputs": [
    {
     "name": "stdout",
     "output_type": "stream",
     "text": [
      "+-------------+-----------+------------+-------------+-------------+---------+--------+----------------+---------------------+----------------+\n",
      "|ID_Ciudad_DWH|ID_ciudad_T|NombreCiudad|   Continente|         Pais|Poblacion|  Region|TerritorioVentas|NombreEstadoProvincia|       Subregion|\n",
      "+-------------+-----------+------------+-------------+-------------+---------+--------+----------------+---------------------+----------------+\n",
      "|            1|         49|     Absecon|North America|United States|     8411|Americas|         Mideast|           New Jersey|Northern America|\n",
      "|            2|        150|    Adelphia|North America|United States|     null|Americas|         Mideast|           New Jersey|Northern America|\n",
      "|            3|        336|      Albion|North America|United States|     null|Americas|         Mideast|           New Jersey|Northern America|\n",
      "|            4|        458|   Allamuchy|North America|United States|       78|Americas|         Mideast|           New Jersey|Northern America|\n",
      "|            5|        480|   Allendale|North America|United States|     6505|Americas|         Mideast|           New Jersey|Northern America|\n",
      "+-------------+-----------+------------+-------------+-------------+---------+--------+----------------+---------------------+----------------+\n",
      "only showing top 5 rows\n",
      "\n"
     ]
    }
   ],
   "source": [
    "# TRANSFORMACION\n",
    "ciudades = ciudades.join(provincias_estados, how = 'left', on = 'ID_EstadoProvincia')\n",
    "ciudades = ciudades.join(paises, how = 'left', on = 'ID_Pais')\n",
    "ciudades = ciudades.coalesce(1).withColumn('ID_Ciudad_DWH', f.monotonically_increasing_id() + 1)\n",
    "ciudades = ciudades.select('ID_Ciudad_DWH','ID_ciudad_T','NombreCiudad','Continente','Nombre','Poblacion',\n",
    "                          'Region','TerritorioVentas','NombreEstadoProvincia','Subregion') \\\n",
    "                    .withColumnRenamed('Nombre','Pais')\n",
    "ciudades.show(5)"
   ]
  },
  {
   "cell_type": "markdown",
   "metadata": {
    "id": "MuvVgJ4R86v0"
   },
   "source": [
    "#### Carga"
   ]
  },
  {
   "cell_type": "markdown",
   "metadata": {},
   "source": [
    "**OJO** Recuerde antes de guardar los datos que la tabla no exista o este vacía, para que no se guarden los mismos datos varias veces y no ocupar más espacio."
   ]
  },
  {
   "cell_type": "code",
   "execution_count": 11,
   "metadata": {
    "id": "yCC2zZqY86v0"
   },
   "outputs": [],
   "source": [
    "# CARGUE\n",
    "guardar_db(dest_db_connection_string, ciudades,'Estudiante_73_202315.Ciudad', db_user, db_psswd)"
   ]
  },
  {
   "cell_type": "markdown",
   "metadata": {
    "id": "0Fo-J97586v0"
   },
   "source": [
    "Verifique los resultados usando MySQL Workbench"
   ]
  },
  {
   "cell_type": "markdown",
   "metadata": {
    "id": "7HpgwA6t86v0"
   },
   "source": [
    "### BLOQUE 3\n",
    "Bloque 3: dimensión paquete. Su fuente de datos es la tabla transaccional <i>Paquetes</i>"
   ]
  },
  {
   "cell_type": "markdown",
   "metadata": {
    "id": "BZjDeVYd86v1"
   },
   "source": [
    "#### Extracción"
   ]
  },
  {
   "cell_type": "code",
   "execution_count": 12,
   "metadata": {
    "id": "2HTzU96W86v1"
   },
   "outputs": [],
   "source": [
    "#EXTRACCION\n",
    "sql_paquetes = '''(SELECT DISTINCT ID_TipoPaquete AS ID_TipoPaquete_T, TipoPaquete AS Nombre FROM WWImportersTransactional.Paquetes) AS Temp_Paquetes'''\n",
    "paquetes = obtener_dataframe_de_bd(source_db_connection_string, sql_paquetes, db_user, db_psswd)"
   ]
  },
  {
   "cell_type": "markdown",
   "metadata": {
    "id": "_7xbgfCk86v1"
   },
   "source": [
    "#### Transformación"
   ]
  },
  {
   "cell_type": "code",
   "execution_count": 13,
   "metadata": {
    "id": "97vmyl3Q86v1",
    "outputId": "0ffd3364-9b73-4001-e9bf-de53c97a2b5a"
   },
   "outputs": [
    {
     "name": "stdout",
     "output_type": "stream",
     "text": [
      "+------------------+----------------+------+\n",
      "|ID_TipoPaquete_DWH|ID_TipoPaquete_T|Nombre|\n",
      "+------------------+----------------+------+\n",
      "|                 1|               1|   Bag|\n",
      "|                 2|               2| Block|\n",
      "|                 3|               3|Bottle|\n",
      "|                 4|               4|   Box|\n",
      "|                 5|               5|   Can|\n",
      "+------------------+----------------+------+\n",
      "only showing top 5 rows\n",
      "\n"
     ]
    }
   ],
   "source": [
    "# TRANSFORMACION\n",
    "paquetes = paquetes.coalesce(1).withColumn('ID_TipoPaquete_DWH', f.monotonically_increasing_id() + 1)\n",
    "paquetes = paquetes.select('ID_TipoPaquete_DWH','ID_TipoPaquete_T','Nombre')\n",
    "paquetes.show(5)"
   ]
  },
  {
   "cell_type": "markdown",
   "metadata": {
    "id": "Rh_102Yy86v1"
   },
   "source": [
    "#### Carga"
   ]
  },
  {
   "cell_type": "markdown",
   "metadata": {},
   "source": [
    "**OJO** Recuerde antes de guardar los datos que la tabla no exista o este vacía, para que no se guarden los mismos datos varias veces y no ocupar más espacio."
   ]
  },
  {
   "cell_type": "code",
   "execution_count": 15,
   "metadata": {
    "id": "UpbxgpWn86v1"
   },
   "outputs": [],
   "source": [
    "# CARGUE\n",
    "guardar_db(dest_db_connection_string, paquetes,'Estudiante_73_202315.TipoPaquete', db_user, db_psswd)"
   ]
  },
  {
   "cell_type": "markdown",
   "metadata": {
    "id": "bTy1oE3V86v2"
   },
   "source": [
    "Verifique los resultados usando MySQL Workbench"
   ]
  },
  {
   "cell_type": "markdown",
   "metadata": {
    "id": "yYetZ2Ip86v2"
   },
   "source": [
    "### BLOQUE 4\n",
    "Bloque 4: dimensión producto, su fuente de datos es la combinación entre las tablas transaccionales Productos y Colores"
   ]
  },
  {
   "cell_type": "markdown",
   "metadata": {
    "id": "HogvCqW_86v2"
   },
   "source": [
    "#### Extracción"
   ]
  },
  {
   "cell_type": "code",
   "execution_count": 16,
   "metadata": {
    "id": "ZEJjQslF86v2"
   },
   "outputs": [],
   "source": [
    "sql_productos = '''(SELECT DISTINCT ID_Producto as ID_Producto_T, ID_Color, NombreProducto, Marca, Necesita_refrigeracion, Dias_tiempo_entrega, Impuesto, PrecioUnitario, PrecioRecomendado FROM WWImportersTransactional.Producto) AS Temp_productos'''\n",
    "sql_colores = '''(SELECT DISTINCT ID_Color, Color FROM WWImportersTransactional.Colores) AS Temp_colores'''\n",
    "\n",
    "productos = obtener_dataframe_de_bd(source_db_connection_string, sql_productos, db_user, db_psswd)\n",
    "colores = obtener_dataframe_de_bd(source_db_connection_string, sql_colores, db_user, db_psswd)"
   ]
  },
  {
   "cell_type": "markdown",
   "metadata": {
    "id": "9rKmT9jd86v2"
   },
   "source": [
    "#### Transformación"
   ]
  },
  {
   "cell_type": "code",
   "execution_count": 17,
   "metadata": {
    "id": "petU8G6K86v2",
    "outputId": "34d83d0f-f557-4ded-b71e-52afb08dfaf7"
   },
   "outputs": [
    {
     "name": "stdout",
     "output_type": "stream",
     "text": [
      "+---------------+-------------+--------------------+-----+-------+----------------------+-------------------+-----------------+--------+--------------+\n",
      "|ID_Producto_DWH|ID_Producto_T|      NombreProducto|Marca|  Color|Necesita_refrigeracion|Dias_tiempo_entrega|PrecioRecomendado|Impuesto|PrecioUnitario|\n",
      "+---------------+-------------+--------------------+-----+-------+----------------------+-------------------+-----------------+--------+--------------+\n",
      "|              1|            1|USB missile launc...| null|Missing|                     0|                 14|               37|      15|            25|\n",
      "|              2|            4|USB food flash dr...| null|Missing|                     0|                 14|               48|      15|            32|\n",
      "|              3|            5|USB food flash dr...| null|Missing|                     0|                 14|               48|      15|            32|\n",
      "|              4|            6|USB food flash dr...| null|Missing|                     0|                 14|               48|      15|            32|\n",
      "|              5|            7|USB food flash dr...| null|Missing|                     0|                 14|               48|      15|            32|\n",
      "+---------------+-------------+--------------------+-----+-------+----------------------+-------------------+-----------------+--------+--------------+\n",
      "only showing top 5 rows\n",
      "\n"
     ]
    }
   ],
   "source": [
    "# TRANSFORMACION\n",
    "productos = productos.join(colores, how = 'left', on = 'ID_Color').fillna({'Color': 'Missing'})\n",
    "productos = productos.coalesce(1).withColumn('ID_Producto_DWH', f.monotonically_increasing_id() + 1)\n",
    "productos = productos.select('ID_Producto_DWH','ID_Producto_T','NombreProducto','Marca','Color','Necesita_refrigeracion','Dias_tiempo_entrega','PrecioRecomendado','Impuesto','PrecioUnitario')\n",
    "productos.show(5)"
   ]
  },
  {
   "cell_type": "markdown",
   "metadata": {
    "id": "R9SnkMUH86v3"
   },
   "source": [
    "#### Carga"
   ]
  },
  {
   "cell_type": "markdown",
   "metadata": {},
   "source": [
    "**OJO** Recuerde antes de guardar los datos que la tabla no exista o este vacía, para que no se guarden los mismos datos varias veces y no ocupar más espacio."
   ]
  },
  {
   "cell_type": "code",
   "execution_count": 18,
   "metadata": {
    "id": "MMArotXz86v3"
   },
   "outputs": [],
   "source": [
    "# CARGUE\n",
    "guardar_db(dest_db_connection_string, productos,'Estudiante_73_202315.Producto', db_user, db_psswd)"
   ]
  },
  {
   "cell_type": "markdown",
   "metadata": {
    "id": "YglraEoA86v3"
   },
   "source": [
    "Verifique los resultados usando MySQL Workbench"
   ]
  },
  {
   "cell_type": "markdown",
   "metadata": {
    "id": "UM4L4jA086v3"
   },
   "source": [
    "### BLOQUE 5\n",
    "Bloque 5: dimensión cliente. Su fuente de datos es la combinación entre las tablas transaccionales Categorias de cliente, Grupos de compra y Clientes"
   ]
  },
  {
   "cell_type": "markdown",
   "metadata": {
    "id": "k8O1GvOd86v3"
   },
   "source": [
    "#### Extracción"
   ]
  },
  {
   "cell_type": "code",
   "execution_count": 19,
   "metadata": {
    "id": "znROuHS086v3"
   },
   "outputs": [],
   "source": [
    "sql_categoriasCliente = '''(SELECT DISTINCT ID_Categoria, NombreCategoria FROM WWImportersTransactional.CategoriasCliente) AS Temp_categoriasclientes'''\n",
    "sql_gruposCompra = '''(SELECT DISTINCT ID_GrupoCompra, NombreGrupoCompra FROM WWImportersTransactional.GruposCompra) AS Temp_gruposcompra'''\n",
    "sql_clientes = '''(SELECT DISTINCT ID_Cliente as ID_Cliente_T, Nombre, ClienteFactura, ID_Categoria, ID_GrupoCompra, ID_CiudadEntrega, LimiteCredito, FechaAperturaCuenta, DiasPago FROM WWImportersTransactional.Clientes) AS Temp_clientes'''\n",
    "\n",
    "categoriasCliente = obtener_dataframe_de_bd(source_db_connection_string, sql_categoriasCliente, db_user, db_psswd)\n",
    "gruposCompra = obtener_dataframe_de_bd(source_db_connection_string, sql_gruposCompra, db_user, db_psswd)\n",
    "clientes = obtener_dataframe_de_bd(source_db_connection_string, sql_clientes, db_user, db_psswd)"
   ]
  },
  {
   "cell_type": "markdown",
   "metadata": {
    "id": "Mo633Vpg86v3"
   },
   "source": [
    "#### Transformación"
   ]
  },
  {
   "cell_type": "code",
   "execution_count": 20,
   "metadata": {
    "id": "wwK8bV8Z86v3",
    "outputId": "7b494261-1640-4108-98f8-65fbe04c7b91"
   },
   "outputs": [
    {
     "name": "stdout",
     "output_type": "stream",
     "text": [
      "+--------------+------------+-----------------+---------------+-----------------+--------------+----------------+-------------+-------------------+--------+\n",
      "|ID_Cliente_DWH|ID_Cliente_T|           Nombre|NombreCategoria|NombreGrupoCompra|ClienteFactura|ID_CiudadEntrega|LimiteCredito|FechaAperturaCuenta|DiasPago|\n",
      "+--------------+------------+-----------------+---------------+-----------------+--------------+----------------+-------------+-------------------+--------+\n",
      "|             1|         803|       Bala Dixit|   Novelty Shop|          Missing|           803|           33799|         2000|2013-01-01 00:00:00|       7|\n",
      "|             2|         805|     Ratan Poddar|   Novelty Shop|          Missing|           805|           10194|         3300|2013-01-01 00:00:00|       7|\n",
      "|             3|         806|           Shi Tu|   Novelty Shop|          Missing|           806|           31685|         3000|2013-01-01 00:00:00|       7|\n",
      "|             4|         811|    Surendra Sahu|   Novelty Shop|          Missing|           811|           25332|         2100|2013-01-01 00:00:00|       7|\n",
      "|             5|         814|Johanna Hoornstra|   Novelty Shop|          Missing|           814|           26752|         2310|2013-01-01 00:00:00|       7|\n",
      "+--------------+------------+-----------------+---------------+-----------------+--------------+----------------+-------------+-------------------+--------+\n",
      "only showing top 5 rows\n",
      "\n"
     ]
    }
   ],
   "source": [
    "# TRANSFORMACION \n",
    "# EL SUPUESTO QUE SE TIENE ES QUE TODOS LOS CLIENTES TIENEN TODOS SUS DATOS DE CATEGORIA Y GRUPO Y NO SE ESTÁN PERDIENDO CLIENTES AL REALIZAR ESTE JOIN\n",
    "clientes = clientes.join(gruposCompra, how = 'left', on = 'ID_GrupoCompra')\n",
    "clientes = clientes.alias('cl').join(categoriasCliente.alias('ct'), how = 'left', on = 'ID_Categoria') \\\n",
    ".select([col('cl.ID_Cliente_T'),col('cl.Nombre'),col('ct.NombreCategoria'),col('cl.NombreGrupoCompra') \\\n",
    "        ,col('cl.ClienteFactura'),col('cl.ID_CiudadEntrega'),col('cl.LimiteCredito'),col('cl.FechaAperturaCuenta'),col('cl.DiasPago')])\n",
    "clientes = clientes.coalesce(1).withColumn('ID_Cliente_DWH', f.monotonically_increasing_id() + 1)\n",
    "clientes = clientes.select('ID_Cliente_DWH','ID_Cliente_T','Nombre','NombreCategoria','NombreGrupoCompra','ClienteFactura',\n",
    "                          'ID_CiudadEntrega','LimiteCredito','FechaAperturaCuenta','DiasPago')\n",
    "\n",
    "clientes = clientes.fillna({'NombreCategoria':'Missing','NombreGrupoCompra':'Missing'})\n",
    "clientes.show(5)"
   ]
  },
  {
   "cell_type": "code",
   "execution_count": 21,
   "metadata": {},
   "outputs": [
    {
     "name": "stdout",
     "output_type": "stream",
     "text": [
      "+--------------+------------+-------+---------------+-----------------+--------------+----------------+-------------+-------------------+--------+\n",
      "|ID_Cliente_DWH|ID_Cliente_T| Nombre|NombreCategoria|NombreGrupoCompra|ClienteFactura|ID_CiudadEntrega|LimiteCredito|FechaAperturaCuenta|DiasPago|\n",
      "+--------------+------------+-------+---------------+-----------------+--------------+----------------+-------------+-------------------+--------+\n",
      "|             0|            |Missing|        Missing|          Missing|             0|               0|             |                   |        |\n",
      "+--------------+------------+-------+---------------+-----------------+--------------+----------------+-------------+-------------------+--------+\n",
      "\n"
     ]
    }
   ],
   "source": [
    "# Crea el registro para el id = 0\n",
    "clientes_0 = [('0','','Missing','Missing','Missing','0','0','','','')]\n",
    "columns = ['ID_Cliente_DWH','ID_Cliente_T','Nombre','NombreCategoria','NombreGrupoCompra','ClienteFactura',\n",
    "            'ID_CiudadEntrega','LimiteCredito','FechaAperturaCuenta','DiasPago']\n",
    "cliente_0 = spark.createDataFrame(data=clientes_0,schema=columns)\n",
    "cliente_0.show()"
   ]
  },
  {
   "cell_type": "code",
   "execution_count": 22,
   "metadata": {},
   "outputs": [
    {
     "name": "stdout",
     "output_type": "stream",
     "text": [
      "+--------------+------------+------------------+---------------+-----------------+--------------+----------------+-------------+-------------------+--------+\n",
      "|ID_Cliente_DWH|ID_Cliente_T|            Nombre|NombreCategoria|NombreGrupoCompra|ClienteFactura|ID_CiudadEntrega|LimiteCredito|FechaAperturaCuenta|DiasPago|\n",
      "+--------------+------------+------------------+---------------+-----------------+--------------+----------------+-------------+-------------------+--------+\n",
      "|             1|         807|     Gunnar Lohmus|     Gift Store|          Missing|           807|           35810|         3100|2013-01-01 00:00:00|       7|\n",
      "|             2|         816|        Harsha Huq|     Gift Store|          Missing|           816|            8892|         2400|2013-01-01 00:00:00|       7|\n",
      "|             3|         823|Francisca Laureano|     Gift Store|          Missing|           823|           17142|         3500|2013-01-01 00:00:00|       7|\n",
      "|             4|         825|    Jayanta Thakur|     Gift Store|          Missing|           825|           28367|         3000|2013-01-01 00:00:00|       7|\n",
      "|             5|         828|      Sercan Celik|     Gift Store|          Missing|           828|           34193|         1785|2013-01-01 00:00:00|       7|\n",
      "+--------------+------------+------------------+---------------+-----------------+--------------+----------------+-------------+-------------------+--------+\n",
      "only showing top 5 rows\n",
      "\n"
     ]
    }
   ],
   "source": [
    "clientes = clientes.union(cliente_0)\n",
    "clientes.show(5)"
   ]
  },
  {
   "cell_type": "code",
   "execution_count": 23,
   "metadata": {},
   "outputs": [
    {
     "name": "stdout",
     "output_type": "stream",
     "text": [
      "+--------------+------------+------------------+---------------+-----------------+--------------+----------------+-------------+-------------------+--------+\n",
      "|ID_Cliente_DWH|ID_Cliente_T|            Nombre|NombreCategoria|NombreGrupoCompra|ClienteFactura|ID_CiudadEntrega|LimiteCredito|FechaAperturaCuenta|DiasPago|\n",
      "+--------------+------------+------------------+---------------+-----------------+--------------+----------------+-------------+-------------------+--------+\n",
      "|             0|            |           Missing|        Missing|          Missing|             0|               0|             |                   |        |\n",
      "|             1|         807|     Gunnar Lohmus|     Gift Store|          Missing|           807|           35810|         3100|2013-01-01 00:00:00|       7|\n",
      "|             2|         816|        Harsha Huq|     Gift Store|          Missing|           816|            8892|         2400|2013-01-01 00:00:00|       7|\n",
      "|             3|         823|Francisca Laureano|     Gift Store|          Missing|           823|           17142|         3500|2013-01-01 00:00:00|       7|\n",
      "|             4|         825|    Jayanta Thakur|     Gift Store|          Missing|           825|           28367|         3000|2013-01-01 00:00:00|       7|\n",
      "+--------------+------------+------------------+---------------+-----------------+--------------+----------------+-------------+-------------------+--------+\n",
      "only showing top 5 rows\n",
      "\n"
     ]
    }
   ],
   "source": [
    "# Se ordena por el identificador DWH\n",
    "clientes = clientes.withColumn('ID_Cliente_DWH',col('ID_Cliente_DWH').cast('int')).orderBy(col('ID_Cliente_DWH'))\n",
    "clientes.show(5)"
   ]
  },
  {
   "cell_type": "markdown",
   "metadata": {
    "id": "i36NawhX86v4"
   },
   "source": [
    "#### Carga"
   ]
  },
  {
   "cell_type": "markdown",
   "metadata": {},
   "source": [
    "**OJO** Recuerde antes de guardar los datos que la tabla no exista o este vacía, para que no se guarden los mismos datos varias veces y no ocupar más espacio."
   ]
  },
  {
   "cell_type": "code",
   "execution_count": 25,
   "metadata": {
    "id": "QcvMzmCf86v4"
   },
   "outputs": [],
   "source": [
    "# CARGUE\n",
    "guardar_db(dest_db_connection_string,clientes,'Estudiante_73_202315.Cliente', db_user, db_psswd)"
   ]
  },
  {
   "cell_type": "markdown",
   "metadata": {
    "id": "AMyvdEB-86v4"
   },
   "source": [
    "Verifique los resultados usando MySQL Workbench"
   ]
  },
  {
   "cell_type": "markdown",
   "metadata": {
    "id": "0ocmdLWv86v4"
   },
   "source": [
    "### BLOQUE 6\n",
    "Bloque 6: Hecho orden. Su fuente de datos es la combinación entre las tablas transaccionales Ordenes y detalles de orden"
   ]
  },
  {
   "cell_type": "markdown",
   "metadata": {
    "id": "LvgnsPfK86v4"
   },
   "source": [
    "#### Extracción"
   ]
  },
  {
   "cell_type": "code",
   "execution_count": 26,
   "metadata": {
    "id": "9b4Qs9_886v4"
   },
   "outputs": [],
   "source": [
    "sql_ordenes = '''(SELECT DISTINCT * FROM WWImportersTransactional.Ordenes) AS Temp_ordenes'''\n",
    "sql_detallesOrdenes = '''(SELECT DISTINCT * FROM WWImportersTransactional.DetallesOrdenes) AS Temp_detallesordenes'''\n",
    "ordenes = obtener_dataframe_de_bd(source_db_connection_string, sql_ordenes, db_user, db_psswd)\n",
    "detallesOrdenes = obtener_dataframe_de_bd(source_db_connection_string, sql_detallesOrdenes, db_user, db_psswd)"
   ]
  },
  {
   "cell_type": "markdown",
   "metadata": {
    "id": "dTv_CIOT86v5"
   },
   "source": [
    "#### Transformación\n",
    "Estas son las respuestas de Wide World Importers a los conclusiones obtenidas en el entendimiento de los datos:\n",
    "- La regla de negocio \"La tasa de impuesto es de 10% o 15%\" es correcta, pero habian errores en la tabla original, que fueron corregidos. \n",
    "- Para la segunda regla de negocio: \"Son 73.595 órdenes detalladas en 231.412 lineas de detalle de órdenes realizadas desde 2013\", si faltaban datos, los cuales fueron completados, y nos dicen que en cuanto a consistencia ellos revisaron las tablas e hicieron correcciones, pero que los duplicados completos de ordenes los eliminemos\n",
    "- \"El formato de fechas manejado es YYYY-MM-DD HH:MM:SS si tienen hora, minutos y segundos. De lo contrario el formato es YYYY-MM-DD\": En cuanto a formatos de fechas estan de acuerdo con que los estandarizemos y el formato sea el especificado en la regla\n",
    "- Para las descripciones de productos que eran \"a\", se actualizaron a los valores reales. \n",
    "- Se pueden eliminar las columnas Comenarios, Instrucciones_de_entrega y comentarios_internos porque estan vacias. \n",
    "- A pesar de estar en un proceso de mejorar la calidad de los datos y mantener los nulos nos ayudaría a reflejar esa calidad, de la mano con el grupo de analitica de WWI se decide imputar por la media el valor extremo de la variable Cantidad\n",
    "- Para las ordenes las columnas Seleccionado_por_ID_de_persona, ID_de_pedido_pendiente, Seleccion_completada_cuando, y para las columnas Seleccion_completada_cuando de la tabla detalles de ordenes, se decide mantener los valores vacíos, sin embargo para la variable Precio_unitario el negocio reviso y complemento los valores faltantes\n",
    "\n",
    "Las tablas usadas en el tutorial de entendimiento de datos estaran disponibles para su revision con los siguientes nombres: OrdenesCopia y DetallesOrdenesCopia. \n",
    "\n",
    "Para este tutorial vamos a trabajar con unas tablas que dadas las conclusiones del tutorial de entendimiento, WWImporters revisó los datos originales, creo tablas y las llamo \"Ordenes\" y \"DetallesOrdenes\""
   ]
  },
  {
   "cell_type": "markdown",
   "metadata": {
    "id": "kcHdgPzj86v5"
   },
   "source": [
    "Se hace una verificación de los valores de la tasa de impuesto"
   ]
  },
  {
   "cell_type": "code",
   "execution_count": 27,
   "metadata": {
    "id": "GT5i7Yjq86v5",
    "outputId": "95819129-618e-4d35-dd6b-878ea1f88ce8"
   },
   "outputs": [
    {
     "name": "stdout",
     "output_type": "stream",
     "text": [
      "+----------------+\n",
      "|Tasa_de_impuesto|\n",
      "+----------------+\n",
      "|              10|\n",
      "|              15|\n",
      "+----------------+\n",
      "\n"
     ]
    }
   ],
   "source": [
    "detallesOrdenes.select(\"Tasa_de_impuesto\").distinct().show()"
   ]
  },
  {
   "cell_type": "markdown",
   "metadata": {
    "id": "DI27nmvB86v5"
   },
   "source": [
    "Se hace una verificación del rango de fechas disponible en los datos"
   ]
  },
  {
   "cell_type": "code",
   "execution_count": 28,
   "metadata": {
    "id": "N0GmNF6x86v5",
    "outputId": "326502fa-449d-47e3-faa5-ecd2fb34651b"
   },
   "outputs": [
    {
     "name": "stdout",
     "output_type": "stream",
     "text": [
      "+--------------------+\n",
      "|min(Fecha_de_pedido)|\n",
      "+--------------------+\n",
      "|          2013-01-01|\n",
      "+--------------------+\n",
      "\n"
     ]
    }
   ],
   "source": [
    "ordenes.agg({\"Fecha_de_pedido\": \"min\"}).show()"
   ]
  },
  {
   "cell_type": "markdown",
   "metadata": {
    "id": "nAp83aSn86v6"
   },
   "source": [
    "Se elimina columnas Comenarios, Instrucciones_de_entrega y comentarios_internos"
   ]
  },
  {
   "cell_type": "code",
   "execution_count": 29,
   "metadata": {
    "id": "UX2Wl4zo86v6"
   },
   "outputs": [],
   "source": [
    "ordenes = ordenes.drop(*[\"Comentarios\", \"Instrucciones_de_entrega\",\"comentarios_internos\"])"
   ]
  },
  {
   "cell_type": "markdown",
   "metadata": {
    "id": "pfONrMtq86v6"
   },
   "source": [
    "Se eliminan duplicados totales de ordenes"
   ]
  },
  {
   "cell_type": "code",
   "execution_count": 30,
   "metadata": {
    "id": "g3KbTJ4k86v6",
    "outputId": "e0783886-2dde-4a7f-f031-72d442ba87ba"
   },
   "outputs": [
    {
     "name": "stdout",
     "output_type": "stream",
     "text": [
      "(93629, 93629)\n"
     ]
    }
   ],
   "source": [
    "print((ordenes.count(),ordenes.distinct().count()))"
   ]
  },
  {
   "cell_type": "code",
   "execution_count": 31,
   "metadata": {
    "id": "ocWjOSPD86v6"
   },
   "outputs": [],
   "source": [
    "ordenes = ordenes.drop_duplicates()"
   ]
  },
  {
   "cell_type": "code",
   "execution_count": 32,
   "metadata": {
    "id": "-qF5L6I186v6",
    "outputId": "e2e4a3b4-025b-41b0-e7da-057df910b082"
   },
   "outputs": [
    {
     "name": "stdout",
     "output_type": "stream",
     "text": [
      "(93629, 93629)\n"
     ]
    }
   ],
   "source": [
    "print((ordenes.count(),ordenes.distinct().count()))"
   ]
  },
  {
   "cell_type": "markdown",
   "metadata": {
    "id": "LqSCkt_V86v6"
   },
   "source": [
    "Se hace verificación de consistencia"
   ]
  },
  {
   "cell_type": "code",
   "execution_count": 33,
   "metadata": {
    "id": "DXNKhNV986v7",
    "outputId": "2b6014c8-837e-4fc5-f98b-973e8899ac0f"
   },
   "outputs": [
    {
     "data": {
      "text/plain": [
       "(0, 0)"
      ]
     },
     "execution_count": 33,
     "metadata": {},
     "output_type": "execute_result"
    }
   ],
   "source": [
    "#consistencia: revisar genially: definicion de consistencia\n",
    "ids_ordenes = set([x.ID_de_pedido for x in ordenes.select('ID_de_pedido').collect()])\n",
    "ids_detalles = set([x.ID_de_pedido for x in detallesOrdenes.select('ID_de_pedido').collect()])\n",
    "\n",
    "len(ids_ordenes-ids_detalles), len(ids_detalles-ids_ordenes)"
   ]
  },
  {
   "cell_type": "markdown",
   "metadata": {
    "id": "TB8BrURo86v7"
   },
   "source": [
    "En el siguiente código para el manejo de fechas, pasamos del formato MM dd,YYYY al formato establecido en la regla de negocio<br>"
   ]
  },
  {
   "cell_type": "code",
   "execution_count": 34,
   "metadata": {
    "id": "ajB_7vTr86v7",
    "outputId": "9cabe64a-58b5-472a-9fce-0eeedfcdb0d6"
   },
   "outputs": [
    {
     "name": "stdout",
     "output_type": "stream",
     "text": [
      "20034 73595\n",
      "+------------+-------------+--------------+------------------------------+-------------------------+----------------------+---------------+-------------------------+--------------------------------------+-------------------------------------------+---------------------------+\n",
      "|ID_de_pedido|ID_de_cliente|ID_de_vendedor|Seleccionado_por_ID_de_persona|ID_de_persona_de_contacto|ID_de_pedido_pendiente|Fecha_de_pedido|Fecha_de_entrega_esperada|Numero_de_pedido_de_compra_del_cliente|Pedido_pendiente_de_suministro_insuficiente|Seleccion_completada_cuando|\n",
      "+------------+-------------+--------------+------------------------------+-------------------------+----------------------+---------------+-------------------------+--------------------------------------+-------------------------------------------+---------------------------+\n",
      "|       20972|          132|             6|                             8|                     1263|                  null|    Jan 28,2014|               2014-01-29|                                 14875|                                       true|        2014-01-28 11:00:00|\n",
      "|       22080|          107|            16|                            12|                     1213|                  null|    Feb 17,2014|               2014-02-18|                                 10447|                                       true|        2014-02-17 11:00:00|\n",
      "|       22194|          136|             3|                          null|                     1271|                 22217|    Feb 19,2014|               2014-02-20|                                 12442|                                       true|        2014-02-19 12:00:00|\n",
      "|       22298|          969|             2|                             7|                     3169|                  null|    Feb 20,2014|               2014-02-21|                                 11473|                                       true|        2014-07-10 11:00:00|\n",
      "|       22358|          534|             8|                             6|                     2267|                  null|    Feb 21,2014|               2014-02-24|                                 10078|                                       true|        2014-02-21 11:00:00|\n",
      "+------------+-------------+--------------+------------------------------+-------------------------+----------------------+---------------+-------------------------+--------------------------------------+-------------------------------------------+---------------------------+\n",
      "only showing top 5 rows\n",
      "\n",
      "None\n"
     ]
    },
    {
     "data": {
      "text/plain": [
       "(20034, 93629)"
      ]
     },
     "execution_count": 34,
     "metadata": {},
     "output_type": "execute_result"
    }
   ],
   "source": [
    "# TRANSFORMACION\n",
    "regex = \"([0-2]\\d{3}-(0[1-9]|1[0-2])-(0[1-9]|[1-2][0-9]|3[0-1]))\"\n",
    "cumplenFormato = ordenes.filter(ordenes[\"Fecha_de_pedido\"].rlike(regex))\n",
    "noCumplenFormato = ordenes.filter(~ordenes[\"Fecha_de_pedido\"].rlike(regex))\n",
    "print(noCumplenFormato.count(), cumplenFormato.count())\n",
    "print(noCumplenFormato.show(5))\n",
    "noCumplenFormato = noCumplenFormato.withColumn('Fecha_de_pedido', f.udf(lambda d: datetime.strptime(d, '%b %d,%Y').strftime('%Y-%m-%d'), t.StringType())(f.col('Fecha_de_pedido')))\n",
    "ordenes = noCumplenFormato.union(cumplenFormato)\n",
    "noCumplenFormato.count(), ordenes.count()"
   ]
  },
  {
   "cell_type": "markdown",
   "metadata": {
    "id": "JN-fsV5_86v7"
   },
   "source": [
    "Descripciones\n"
   ]
  },
  {
   "cell_type": "code",
   "execution_count": 35,
   "metadata": {
    "id": "8lPrvq2m86v7",
    "outputId": "5eb1f4eb-5b44-4753-d094-ba16ad225fd7"
   },
   "outputs": [
    {
     "name": "stdout",
     "output_type": "stream",
     "text": [
      "+----------------+------------+-----------+-----------+---------------+--------+---------------+----------------+---------------------+---------------------------+\n",
      "|Detalle_orden_ID|ID_de_pedido|ID_Producto|Descripcion|ID_Tipo_Paquete|Cantidad|Precio_unitario|Tasa_de_impuesto|Cantidad_seleccionada|Seleccion_completada_cuando|\n",
      "+----------------+------------+-----------+-----------+---------------+--------+---------------+----------------+---------------------+---------------------------+\n",
      "+----------------+------------+-----------+-----------+---------------+--------+---------------+----------------+---------------------+---------------------------+\n",
      "\n"
     ]
    }
   ],
   "source": [
    "detallesOrdenes.where(length(col(\"Descripcion\")) <= 10).show()"
   ]
  },
  {
   "cell_type": "markdown",
   "metadata": {
    "id": "a31mBQwD86v7"
   },
   "source": [
    "Imputar valor maximo de cantidad"
   ]
  },
  {
   "cell_type": "code",
   "execution_count": 36,
   "metadata": {
    "id": "dAeVZ5Xc86v8",
    "outputId": "6a8395e8-cdeb-44b7-a58d-1428b6682823"
   },
   "outputs": [
    {
     "data": {
      "text/plain": [
       "Row(Cantidad=360)"
      ]
     },
     "execution_count": 36,
     "metadata": {},
     "output_type": "execute_result"
    }
   ],
   "source": [
    "detallesOrdenes.select('Cantidad').sort(col(\"Cantidad\").desc()).collect()[1]"
   ]
  },
  {
   "cell_type": "code",
   "execution_count": 37,
   "metadata": {
    "id": "QEM7tcJ986v8"
   },
   "outputs": [],
   "source": [
    "detallesOrdenes = detallesOrdenes.replace( 10000000, 360, 'Cantidad')"
   ]
  },
  {
   "cell_type": "code",
   "execution_count": 38,
   "metadata": {
    "id": "mmteyIwh86v8",
    "outputId": "79f8b8d0-b28a-42b4-c9bb-6c3eae3f537f"
   },
   "outputs": [
    {
     "data": {
      "text/plain": [
       "Row(Cantidad=360)"
      ]
     },
     "execution_count": 38,
     "metadata": {},
     "output_type": "execute_result"
    }
   ],
   "source": [
    "detallesOrdenes.select('Cantidad').sort(col(\"Cantidad\").desc()).collect()[0]"
   ]
  },
  {
   "cell_type": "code",
   "execution_count": 39,
   "metadata": {
    "id": "uda-rfmr86v8"
   },
   "outputs": [
    {
     "name": "stdout",
     "output_type": "stream",
     "text": [
      "+----------------+------------+-----------+--------------------+---------------+--------+---------------+----------------+---------------------+---------------------------+\n",
      "|Detalle_orden_ID|ID_de_pedido|ID_Producto|         Descripcion|ID_Tipo_Paquete|Cantidad|Precio_unitario|Tasa_de_impuesto|Cantidad_seleccionada|Seleccion_completada_cuando|\n",
      "+----------------+------------+-----------+--------------------+---------------+--------+---------------+----------------+---------------------+---------------------------+\n",
      "|               1|          45|        164|32 mm Double side...|              7|      50|            112|              15|                   50|        2013-01-02 11:00:00|\n",
      "|               2|           1|         67|Ride on toy sedan...|              7|      10|            230|              15|                   10|        2013-01-01 11:00:00|\n",
      "|               3|           2|         50|Developer joke mu...|              7|       9|             13|              15|                    9|        2013-01-01 11:00:00|\n",
      "|               4|          46|         89|\"The Gu\" red shir...|              7|      72|             18|              15|                   72|        2013-01-02 11:00:00|\n",
      "|               5|          46|        171|32 mm Anti static...|              7|      90|             32|              15|                   90|        2013-01-02 11:00:00|\n",
      "+----------------+------------+-----------+--------------------+---------------+--------+---------------+----------------+---------------------+---------------------------+\n",
      "only showing top 5 rows\n",
      "\n"
     ]
    }
   ],
   "source": [
    "detallesOrdenes.show(5)"
   ]
  },
  {
   "cell_type": "code",
   "execution_count": 40,
   "metadata": {
    "id": "QOcOg5wJ86v8"
   },
   "outputs": [
    {
     "name": "stdout",
     "output_type": "stream",
     "text": [
      "+------------+-------------+--------------+------------------------------+-------------------------+----------------------+---------------+-------------------------+--------------------------------------+-------------------------------------------+---------------------------+\n",
      "|ID_de_pedido|ID_de_cliente|ID_de_vendedor|Seleccionado_por_ID_de_persona|ID_de_persona_de_contacto|ID_de_pedido_pendiente|Fecha_de_pedido|Fecha_de_entrega_esperada|Numero_de_pedido_de_compra_del_cliente|Pedido_pendiente_de_suministro_insuficiente|Seleccion_completada_cuando|\n",
      "+------------+-------------+--------------+------------------------------+-------------------------+----------------------+---------------+-------------------------+--------------------------------------+-------------------------------------------+---------------------------+\n",
      "|       20972|          132|             6|                             8|                     1263|                  null|     2014-01-28|               2014-01-29|                                 14875|                                       true|        2014-01-28 11:00:00|\n",
      "|       22080|          107|            16|                            12|                     1213|                  null|     2014-02-17|               2014-02-18|                                 10447|                                       true|        2014-02-17 11:00:00|\n",
      "|       22194|          136|             3|                          null|                     1271|                 22217|     2014-02-19|               2014-02-20|                                 12442|                                       true|        2014-02-19 12:00:00|\n",
      "|       22298|          969|             2|                             7|                     3169|                  null|     2014-02-20|               2014-02-21|                                 11473|                                       true|        2014-07-10 11:00:00|\n",
      "|       22358|          534|             8|                             6|                     2267|                  null|     2014-02-21|               2014-02-24|                                 10078|                                       true|        2014-02-21 11:00:00|\n",
      "+------------+-------------+--------------+------------------------------+-------------------------+----------------------+---------------+-------------------------+--------------------------------------+-------------------------------------------+---------------------------+\n",
      "only showing top 5 rows\n",
      "\n"
     ]
    }
   ],
   "source": [
    "ordenes.show(5)"
   ]
  },
  {
   "cell_type": "markdown",
   "metadata": {
    "id": "nRyB9egF86v8"
   },
   "source": [
    "Se unen los dos dataframes en un nuevo dataframe, se verifica que no haya duplicados y si los hay se eliminan. Se crea un nuevo dataframe que va a tener toda la información del hecho orden transformada y lista para continuar el proceso de cargue."
   ]
  },
  {
   "cell_type": "code",
   "execution_count": 41,
   "metadata": {
    "id": "3RVZ_KIj86v8",
    "outputId": "90b92db0-5f18-44a1-a14a-73ab6e1ce8f5"
   },
   "outputs": [
    {
     "name": "stdout",
     "output_type": "stream",
     "text": [
      "(294314, 231412)\n",
      "+--------------+-----------+---------------+-------------+--------------+---------------+--------+-----------+---------+\n",
      "|ID_de_pedido_T|ID_Producto|Fecha_de_pedido|ID_de_cliente|ID_de_vendedor|ID_Tipo_Paquete|Cantidad|Valor_total|Impuestos|\n",
      "+--------------+-----------+---------------+-------------+--------------+---------------+--------+-----------+---------+\n",
      "|           148|        203|     2013-01-02|          812|            13|              7|      40|       1280|    19200|\n",
      "|           463|         64|     2013-01-09|          555|             3|              7|       1|         30|      450|\n",
      "|           463|         10|     2013-01-09|          555|             3|              7|       8|        256|     3840|\n",
      "|           463|         16|     2013-01-09|          555|             3|              7|      10|        130|     1950|\n",
      "|           463|         57|     2013-01-09|          555|             3|              7|       3|         39|      585|\n",
      "+--------------+-----------+---------------+-------------+--------------+---------------+--------+-----------+---------+\n",
      "only showing top 5 rows\n",
      "\n"
     ]
    }
   ],
   "source": [
    "ordenes_tmp =ordenes\n",
    "ordenes_tmp = ordenes_tmp.join(detallesOrdenes, how = 'inner', on = 'ID_de_pedido')\n",
    "ordenes_tmp = ordenes_tmp.withColumn('Valor_total',col('Precio_unitario')*col('Cantidad'))\n",
    "ordenes_tmp = ordenes_tmp.withColumn('Impuestos',col('Valor_total')*col('Tasa_de_impuesto'))\n",
    "ordenes_tmp = ordenes_tmp.selectExpr('ID_de_pedido as ID_de_pedido_T','ID_Producto','Fecha_de_pedido','ID_de_cliente','ID_de_vendedor','ID_Tipo_Paquete','Cantidad','Valor_total', 'Impuestos')\n",
    "\n",
    "print((ordenes_tmp.count(),ordenes_tmp.distinct().count()))\n",
    "\n",
    "ordenes_tmp = ordenes_tmp.drop_duplicates()\n",
    "ordenes_tmp.show(5)"
   ]
  },
  {
   "cell_type": "code",
   "execution_count": 42,
   "metadata": {},
   "outputs": [],
   "source": [
    "guardar_db(dest_db_connection_string, ordenes_tmp,'Estudiante_73_202315.Hecho_Orden_Tmp', db_user, db_psswd)"
   ]
  },
  {
   "cell_type": "markdown",
   "metadata": {},
   "source": [
    "Cree la tabla de Fecha según el material compartido y adicione el left join al crear la tabla de ordenes para que quede completa"
   ]
  },
  {
   "cell_type": "code",
   "execution_count": 43,
   "metadata": {},
   "outputs": [
    {
     "name": "stdout",
     "output_type": "stream",
     "text": [
      "+--------------+--------------+-------------+---------------+---------------+------------------+--------+-----------+---------+\n",
      "|ID_de_pedido_T|ID_Cliente_DWH|ID_Ciudad_DWH|ID_Empleado_DWH|ID_Producto_DWH|ID_TipoPaquete_DWH|Cantidad|Valor_total|Impuestos|\n",
      "+--------------+--------------+-------------+---------------+---------------+------------------+--------+-----------+---------+\n",
      "|            57|           320|        20030|              1|            187|                 7|       6|        180|     2700|\n",
      "|           463|           461|        29242|              2|            187|                 7|       1|         30|      450|\n",
      "|           463|           461|        29242|              2|              8|                 7|       8|        256|     3840|\n",
      "|           463|           461|        29242|              2|            192|                 7|      10|        130|     1950|\n",
      "|           463|           461|        29242|              2|            121|                 7|       3|         39|      585|\n",
      "+--------------+--------------+-------------+---------------+---------------+------------------+--------+-----------+---------+\n",
      "only showing top 5 rows\n",
      "\n"
     ]
    }
   ],
   "source": [
    "# El idPedido representa la dimensión degenerada Pedido\n",
    "# Si hay campos nulos en ordenes_tmp al hacer join por el left outer join no se perderan y se utiliza como comodín un id=0 que debe existir en todas las dimensiones.\n",
    "# Ese comodín representa el registro sin Dato.\n",
    "# Debe adicionarle a todas las tablas el registro con identificador 0, como se muestra para la tabla de clientes\n",
    "# Recuerde que falta incluir el join con la tabla de Fecha para que la tabla quede completa.\n",
    "\n",
    "ordenes = ordenes_tmp.alias('o').join(clientes.alias('cl'), ordenes_tmp.ID_de_cliente == clientes.ID_Cliente_T,'left')\\\n",
    "                    .join(ciudades.alias('ciu'), clientes.ID_CiudadEntrega == ciudades.ID_ciudad_T,'left') \\\n",
    "                    .join(empleados.alias('e'), ordenes_tmp.ID_de_vendedor == empleados.ID_Empleado_T,'left') \\\n",
    "                    .join(paquetes.alias('p'), ordenes_tmp.ID_Tipo_Paquete == paquetes.ID_TipoPaquete_T,'left') \\\n",
    "                    .join(productos.alias('pr'), (ordenes_tmp.ID_Producto == productos.ID_Producto_T) ,'left') \\\n",
    "                    .select([col('o.ID_de_pedido_T'),col('cl.ID_Cliente_DWH'),col('ciu.ID_Ciudad_DWH'),\n",
    "                             col('e.ID_Empleado_DWH'),col('pr.ID_Producto_DWH'),col('p.ID_TipoPaquete_DWH'),\n",
    "                             col('o.Cantidad'),col('o.Valor_total'),col('o.Impuestos')]) \\\n",
    "                    .fillna({'ID_Cliente_DWH': 0, 'ID_Ciudad_DWH': 0, 'ID_Empleado_DWH': 0, 'ID_Producto_DWH': 0,\n",
    "                             'ID_TipoPaquete_DWH': 0})\n",
    "ordenes.show(5)"
   ]
  },
  {
   "cell_type": "code",
   "execution_count": 44,
   "metadata": {},
   "outputs": [
    {
     "name": "stdout",
     "output_type": "stream",
     "text": [
      "+--------------+-------------+--------------+---------------+---------------+------------------+--------+---------+-----+\n",
      "|ID_de_pedido_T|ID_Ciudad_DWH|ID_Cliente_DWH|ID_Empleado_DWH|ID_Producto_DWH|ID_TipoPaquete_DWH|Cantidad|Impuestos|Total|\n",
      "+--------------+-------------+--------------+---------------+---------------+------------------+--------+---------+-----+\n",
      "|            57|        20030|           320|              1|            187|                 7|       6|     2700|  180|\n",
      "|           463|        29242|           461|              2|            187|                 7|       1|      450|   30|\n",
      "|           463|        29242|           461|              2|              8|                 7|       8|     3840|  256|\n",
      "|           463|        29242|           461|              2|            192|                 7|      10|     1950|  130|\n",
      "|           463|        29242|           461|              2|            121|                 7|       3|      585|   39|\n",
      "+--------------+-------------+--------------+---------------+---------------+------------------+--------+---------+-----+\n",
      "only showing top 5 rows\n",
      "\n"
     ]
    }
   ],
   "source": [
    "ordenes = ordenes.select('ID_de_pedido_T','ID_Ciudad_DWH','ID_Cliente_DWH','ID_Empleado_DWH','ID_Producto_DWH',\n",
    "                         'ID_TipoPaquete_DWH','Cantidad','Impuestos','Valor_total') \\\n",
    "                    .withColumnRenamed('Valor_total','Total')\n",
    "ordenes.show(5)"
   ]
  },
  {
   "cell_type": "markdown",
   "metadata": {
    "id": "N9f10qpB86v9"
   },
   "source": [
    "#### Carga"
   ]
  },
  {
   "cell_type": "markdown",
   "metadata": {},
   "source": [
    "**OJO** Recuerde antes de guardar los datos que la tabla no exista o este vacía, para que no se guarden los mismos datos varias veces y no ocupar más espacio."
   ]
  },
  {
   "cell_type": "code",
   "execution_count": 45,
   "metadata": {},
   "outputs": [],
   "source": [
    "guardar_db(dest_db_connection_string, ordenes,'Estudiante_73_202315.Hecho_Orden', db_user, db_psswd)"
   ]
  },
  {
   "cell_type": "markdown",
   "metadata": {
    "id": "xXk0Fxmu86v9"
   },
   "source": [
    "Verifique los resultados usando MySQL Workbench"
   ]
  },
  {
   "cell_type": "markdown",
   "metadata": {
    "id": "IWmcDXue86v9"
   },
   "source": [
    "# Resultado de consultas\n",
    "Corresponde a las consultas realizadas sobre las tablas, para mostrar el estado final de las tablas pobladas como resultado del proceso de ETL."
   ]
  },
  {
   "cell_type": "markdown",
   "metadata": {
    "id": "OGMlLaje86v9"
   },
   "source": [
    "# 3. Tarea ETL\n",
    "Espacio para desarrollar la tarea planteada"
   ]
  },
  {
   "cell_type": "markdown",
   "metadata": {
    "id": "RwyeLpt386v9"
   },
   "source": [
    "# Enunciado"
   ]
  },
  {
   "cell_type": "markdown",
   "metadata": {},
   "source": [
    "Ahora que sabe cómo realizar un proceso ETL, dado el modelo multidimensional del proceso de negocio de movimientos de inventario realice las siguientes actividades:\n",
    "\n",
    "Entregable 1 - Diseño del ETL: Diseñe el ETL para las dimensiones proveedor, tipoTransaccion, fecha y para la tabla de hechos. A nivel de la tabla de proveedores incluya la tabla categoriasProveedores donde encuentra información de las categorías. El diseño del ETL es un diagrama como lo encuentra en la infografía de proceso ETL y puede observar en la siguiente figura. En el entregable utilice la siguiente plantilla para presentar el diseño de ETL e incluya una descripción general que permita comprender detalles que pueden ser confusos.\n",
    "\n",
    "Entregable 2 - Implementación del ETL: implementación del proceso ETL para las dimensiones Proveedor, TipoTransaccion y para la tabla de hechos. En el entregable incluya una descripción general que permita comprender el proceso de implementación del ETL.\n",
    "\n",
    "Note que para este proceso de negocio, las dimensiones Producto, Cliente y Fecha son iguales a las del hecho Orden, este caso se conoce como dimensiones compartidas. Usted debe concentrarse en las dimensiones Proveedor, TipoTransaccion, Fecha y la tabla de hechos que no existen en la bodega de datos actualmente.\n",
    "\n",
    "WWImporters le comparte el modelo multidimensional que ha decido utilizar. Este modelo representa los movimientos(transacciones) que se hacen sobre el inventario de WWImporters. En particular, se observa que se tiene información de los tipos de transacciones, realizadas por un proveedor, relacionado con un cliente y un producto específico en una fecha determinada. En el modelo se dejan explícitos los dos tipos de identificadores que se crean a nivel de la bodega. el propio de la Bodega, (con el sufijo DWH) y el que viene de la fuente (con el sufijo T)."
   ]
  },
  {
   "attachments": {
    "a52a9a3a-aeb2-40d0-81db-2b8cbf380003.png": {
     "image/png": "[encoded data removed]"
    }
   },
   "cell_type": "markdown",
   "metadata": {},
   "source": [
    "![modelo_md.png](attachment:a52a9a3a-aeb2-40d0-81db-2b8cbf380003.png)"
   ]
  },
  {
   "cell_type": "markdown",
   "metadata": {},
   "source": [
    "# BLOQUE 1\n",
    "Bloque 1: Dimensión proveedor, su fuente de datos es la combinación entre las tablas transaccionales Proveedores ,  CategoriasProveedores y Personas\n",
    "La dimensión Proveedor, su fuente de datos viene de la tabla transaccional proveedores. En la sentencia SQL se encuentra la combinación entre las tablas transaccionales CategoriasProveedores y Personas. Se extrae únicamente los atributos que queremos, de acuerdo con modelo dimensional. \n",
    "\n",
    "# Extracción\n",
    "A continuación, extraemos la información deseada por medio de SQL de acuerdo al diseño de la dimension acorde al negocio, cargandola en un DataFrame PySpark. En la extracción, se realiza el renombre de los atributos de la tabla de proveedores de acuerdo con lo indicado en el modelo por el negoci; se realiza la modificación de las columnas NombreProveedor, CategoriaProveedor y NombreCompleto que se extraer de la base de datos proveedores compartida por el negocio. "
   ]
  },
  {
   "cell_type": "code",
   "execution_count": 47,
   "metadata": {},
   "outputs": [
    {
     "name": "stdout",
     "output_type": "stream",
     "text": [
      "+--------------+--------------------+--------------------+------------------+---------+-------------+\n",
      "|ID_proveedor_T|              Nombre|           categoria|Contacto_Principal|Dias_Pago|Codigo_Postal|\n",
      "+--------------+--------------------+--------------------+------------------+---------+-------------+\n",
      "|             1| A Datum Corporation| productos novedosos|        Reio Kabin|       14|        46077|\n",
      "|             2|       Contoso, Ltd.| productos novedosos|   Hanna Mihhailov|        7|        98253|\n",
      "|             3|Consolidated Mess...|servicios de mens...|      Kerstin Parn|       30|        94101|\n",
      "|             4|      Fabrikam, Inc.|                ropa|       Bill Lawson|       30|        40351|\n",
      "|             5|Graphic Design In...| productos novedosos|        Penny Buck|       14|        64847|\n",
      "|             6| Humongous Insurance|servicios de seguros|Madelaine  Cartier|       14|        37770|\n",
      "|             7|       Litware, Inc.|            embalaje|     Elias Myllari|       30|        95245|\n",
      "|             8|  Lucerne Publishing| productos novedosos|       Prem Prabhu|       30|        37659|\n",
      "|             9|      Nod Publishers| productos novedosos|      Marcos Costa|        7|        27906|\n",
      "|            10|Northwind Electri...|            juguetes|   Eliza Soderberg|       30|         7860|\n",
      "|            11|       Trey Research|servicios de mark...|      Donald Jones|        7|        57543|\n",
      "|            12|   The Phone Company| productos novedosos|           Hai Dam|       30|        56732|\n",
      "|            13|      Woodgrove Bank|servicios financi...|      Hubert Helms|        7|        94101|\n",
      "+--------------+--------------------+--------------------+------------------+---------+-------------+\n",
      "\n"
     ]
    }
   ],
   "source": [
    "sql_proveedores ='''(SELECT ProveedorID ID_proveedor_T,\n",
    "                        NombreProveedor Nombre  ,\n",
    "                        CategoriaProveedor  categoria,\n",
    "                        NombreCompleto Contacto_Principal ,\n",
    "                        CASE\n",
    "                        WHEN pv.DiasPago < 1 then -1 * pv.DiasPago\n",
    "                         else DiasPago\n",
    "                         end Dias_Pago,\n",
    "                        pv.CodigoPostal Codigo_Postal\n",
    "                        FROM proveedores pv left join CategoriasProveedores ct on ct.CategoriaProveedorID = pv.CategoriaProveedorID\n",
    "                        left join Personas ps on  ps.ID_persona=pv.PersonaContactoPrincipalID\n",
    "                        order by ProveedorID) AS Temp_proveedores'''\n",
    "proveedores = obtener_dataframe_de_bd(source_db_connection_string, sql_proveedores, db_user, db_psswd)\n",
    "proveedores.show(20)\n"
   ]
  },
  {
   "cell_type": "markdown",
   "metadata": {},
   "source": [
    "De acuerdo con el modelo se realiza la creacción del ID \"_DWH\" acumulativo para cada registro en el dataframe para indicar que son ID's propios de la bodega.\n",
    "\n",
    "Durante la extracción en la columna DiasPago contenia datos negativos y de acuerdo al negocio se multiplica  los datos negativos por -1; se valida que la transformación se realiza de manera correcta."
   ]
  },
  {
   "cell_type": "code",
   "execution_count": 48,
   "metadata": {},
   "outputs": [
    {
     "name": "stdout",
     "output_type": "stream",
     "text": [
      "+--------------+------+---------+------------------+---------+-------------+\n",
      "|ID_proveedor_T|Nombre|categoria|Contacto_Principal|Dias_Pago|Codigo_Postal|\n",
      "+--------------+------+---------+------------------+---------+-------------+\n",
      "+--------------+------+---------+------------------+---------+-------------+\n",
      "\n"
     ]
    }
   ],
   "source": [
    "proveedores.filter(proveedores.Dias_Pago <= 0 ).show()"
   ]
  },
  {
   "cell_type": "code",
   "execution_count": 49,
   "metadata": {},
   "outputs": [
    {
     "name": "stdout",
     "output_type": "stream",
     "text": [
      "+----------------+--------------+--------------------+--------------------+------------------+---------+-------------+\n",
      "|ID_Proveedor_DWH|ID_proveedor_T|              Nombre|           categoria|Contacto_Principal|Dias_Pago|Codigo_Postal|\n",
      "+----------------+--------------+--------------------+--------------------+------------------+---------+-------------+\n",
      "|               1|             1| A Datum Corporation| productos novedosos|        Reio Kabin|       14|        46077|\n",
      "|               2|             2|       Contoso, Ltd.| productos novedosos|   Hanna Mihhailov|        7|        98253|\n",
      "|               3|             3|Consolidated Mess...|servicios de mens...|      Kerstin Parn|       30|        94101|\n",
      "|               4|             4|      Fabrikam, Inc.|                ropa|       Bill Lawson|       30|        40351|\n",
      "|               5|             5|Graphic Design In...| productos novedosos|        Penny Buck|       14|        64847|\n",
      "|               6|             6| Humongous Insurance|servicios de seguros|Madelaine  Cartier|       14|        37770|\n",
      "|               7|             7|       Litware, Inc.|            embalaje|     Elias Myllari|       30|        95245|\n",
      "|               8|             8|  Lucerne Publishing| productos novedosos|       Prem Prabhu|       30|        37659|\n",
      "|               9|             9|      Nod Publishers| productos novedosos|      Marcos Costa|        7|        27906|\n",
      "|              10|            10|Northwind Electri...|            juguetes|   Eliza Soderberg|       30|         7860|\n",
      "|              11|            11|       Trey Research|servicios de mark...|      Donald Jones|        7|        57543|\n",
      "|              12|            12|   The Phone Company| productos novedosos|           Hai Dam|       30|        56732|\n",
      "|              13|            13|      Woodgrove Bank|servicios financi...|      Hubert Helms|        7|        94101|\n",
      "+----------------+--------------+--------------------+--------------------+------------------+---------+-------------+\n",
      "\n"
     ]
    }
   ],
   "source": [
    "# TRANSFORMACION\n",
    "proveedores = proveedores.coalesce(1).withColumn('ID_Proveedor_DWH', f.monotonically_increasing_id() + 1)\n",
    "proveedores = proveedores.select('ID_Proveedor_DWH','ID_proveedor_T','Nombre','categoria','Contacto_Principal','Dias_Pago','Codigo_Postal')\n",
    "proveedores.show(20)"
   ]
  },
  {
   "cell_type": "markdown",
   "metadata": {},
   "source": [
    "Una vez validada que la tabla(s) cumple con el modelo entregado se procede a realizar la carga en el ambiente de la consultoría para poder realizar la estructuración del Tablero de Control de acuerdo con el requerimiento de \n",
    "# \"Visualizar la cantidad de productos vendidos y el valor  total recaudada en un rango de fechas por cliente, vendedor, ciudad y producto.\""
   ]
  },
  {
   "cell_type": "code",
   "execution_count": 50,
   "metadata": {},
   "outputs": [],
   "source": [
    "# CARGUE\n",
    "guardar_db(dest_db_connection_string,proveedores,'Estudiante_73_202315.proveedor', db_user, db_psswd)"
   ]
  },
  {
   "attachments": {
    "a475f21a-2082-4ea7-8126-21d9673dbc20.png": {
     "image/png": "[encoded data removed]"
    }
   },
   "cell_type": "markdown",
   "metadata": {},
   "source": [
    "![proveedor.png](attachment:a475f21a-2082-4ea7-8126-21d9673dbc20.png)"
   ]
  },
  {
   "cell_type": "markdown",
   "metadata": {},
   "source": [
    "# BLOQUE 2\n",
    "Bloque 2: dimensión tipotransacción, su fuente de datos es la tabla transaccionales TiposTransaccion\n",
    "   \n",
    "En la sentencia SQL se encuentra la combinación entre las tablas transaccionales TiposTransaccion. \n",
    "Se extrae únicamente para este caso el ID y  DEscripción del Tipo de Transacción, de acuerdo con modelo dimensional. \n",
    "\n",
    "# Extracción\n",
    "Se extrae de la tabla compartida por el negocio TiposTransaccion la información de interes. En la extracción, se realiza el reenombre de los atributos de la tabla de TiposTransaccion.\n"
   ]
  },
  {
   "cell_type": "code",
   "execution_count": 52,
   "metadata": {},
   "outputs": [
    {
     "name": "stdout",
     "output_type": "stream",
     "text": [
      "+---------------------+--------------------+\n",
      "|ID_Tipo_transaccion_T|                Tipo|\n",
      "+---------------------+--------------------+\n",
      "|                    2|Customer Credit Note|\n",
      "|                    3|Customer Payment ...|\n",
      "|                    4|     Customer Refund|\n",
      "|                    5|    Supplier Invoice|\n",
      "|                    6|Supplier Credit Note|\n",
      "|                    7|Supplier Payment ...|\n",
      "|                    8|     Supplier Refund|\n",
      "|                    9|      Stock Transfer|\n",
      "|                   10|         Stock Issue|\n",
      "|                   11|       Stock Receipt|\n",
      "|                   12|Stock Adjustment ...|\n",
      "|                   13|     Customer Contra|\n",
      "+---------------------+--------------------+\n",
      "\n"
     ]
    }
   ],
   "source": [
    "sql_tpTransaccion ='''(SELECT TipoTransaccionID ID_Tipo_transaccion_T,\n",
    "                            TipoTransaccionNombre Tipo\n",
    "                        FROM TiposTransaccion\n",
    "                        order by TipoTransaccionID) AS Temp_TiposTransaccion'''\n",
    "tpTransaccion = obtener_dataframe_de_bd(source_db_connection_string, sql_tpTransaccion, db_user, db_psswd)\n",
    "tpTransaccion.show(20)"
   ]
  },
  {
   "cell_type": "markdown",
   "metadata": {},
   "source": [
    "# Transformación\n",
    "\n",
    "Se realiza la creación del ID propio de la tabla para lo cual se emplea en el nombre el \"DWH\" de acuerdo con lo indicado por el negocio."
   ]
  },
  {
   "cell_type": "code",
   "execution_count": 53,
   "metadata": {},
   "outputs": [
    {
     "name": "stdout",
     "output_type": "stream",
     "text": [
      "+--------------------+---------------------+--------------------+\n",
      "|ID_tpTransaccion_DWH|ID_Tipo_transaccion_T|                Tipo|\n",
      "+--------------------+---------------------+--------------------+\n",
      "|                   1|                    2|Customer Credit Note|\n",
      "|                   2|                    3|Customer Payment ...|\n",
      "|                   3|                    4|     Customer Refund|\n",
      "|                   4|                    5|    Supplier Invoice|\n",
      "|                   5|                    6|Supplier Credit Note|\n",
      "|                   6|                    7|Supplier Payment ...|\n",
      "|                   7|                    8|     Supplier Refund|\n",
      "|                   8|                    9|      Stock Transfer|\n",
      "|                   9|                   10|         Stock Issue|\n",
      "|                  10|                   11|       Stock Receipt|\n",
      "|                  11|                   12|Stock Adjustment ...|\n",
      "|                  12|                   13|     Customer Contra|\n",
      "+--------------------+---------------------+--------------------+\n",
      "\n"
     ]
    }
   ],
   "source": [
    "tpTransaccion = tpTransaccion.coalesce(1).withColumn('ID_tpTransaccion_DWH', f.monotonically_increasing_id() + 1)\n",
    "tpTransaccion = tpTransaccion.select('ID_tpTransaccion_DWH','ID_Tipo_transaccion_T','Tipo')\n",
    "tpTransaccion.show(20)"
   ]
  },
  {
   "cell_type": "code",
   "execution_count": 54,
   "metadata": {},
   "outputs": [],
   "source": [
    "# CARGUE\n",
    "guardar_db(dest_db_connection_string,tpTransaccion,'Estudiante_73_202315.TipoTransaccion', db_user, db_psswd)"
   ]
  },
  {
   "attachments": {
    "eb076a7c-9453-4b85-bfd3-adee2e4e87a2.png": {
     "image/png": "[encoded data removed]"
    }
   },
   "cell_type": "markdown",
   "metadata": {},
   "source": [
    "![tipo_transaccion.png](attachment:eb076a7c-9453-4b85-bfd3-adee2e4e87a2.png)"
   ]
  },
  {
   "cell_type": "markdown",
   "metadata": {},
   "source": [
    "# BLOQUE 3\n",
    "Bloque 3: dimensión fecha, su fuente de datos es la tabla transaccionales TiposTransaccion; de donde se extraerán las fechas para construir la Dimensión Fecha que se empleará en el modelo y en la estructuración del tablero de control.\n",
    "\n",
    "# Extracción\n",
    "A continuación, extraemos la información deseada por medio de SQL de la FechaTransaccion de la tabla movimiento; de interes para esta consultoría y que permitirá dar respuesta a los rangos requeridos en el Tablero de Control.\n",
    "\n",
    "# Transformación\n",
    "Se realiza el cargue de la información se validan los formatos que se tienen se extraen los datos para definir, día, mes y año de la FechaTransacción, posterior se incluye la columna de semana ISO; dando cumplimiento a los atributos requeridos para la tabla y las transformaciones."
   ]
  },
  {
   "cell_type": "code",
   "execution_count": 55,
   "metadata": {},
   "outputs": [
    {
     "name": "stdout",
     "output_type": "stream",
     "text": [
      "758 1972\n",
      "+--------------------+--------+---+---+-----+-----------------+\n",
      "|               Fecha|ID_Fecha|Dia|Mes|Anioa|Numero_semana_ISO|\n",
      "+--------------------+--------+---+---+-----+-----------------+\n",
      "|2013-01-01 12:00:...|20130101|  1|  1|    1|                1|\n",
      "|2013-01-02 12:00:...|20130102|  2|  1|    1|                1|\n",
      "|2013-01-03 12:00:...|20130103|  3|  1|    1|                1|\n",
      "|2013-01-04 12:00:...|20130104|  4|  1|    1|                1|\n",
      "|2013-01-05 12:00:...|20130105|  5|  1|    1|                1|\n",
      "|2013-01-07 12:00:...|20130107|  7|  1|    1|                2|\n",
      "|2013-01-08 12:00:...|20130108|  8|  1|    1|                2|\n",
      "|2013-01-09 12:00:...|20130109|  9|  1|    1|                2|\n",
      "|2013-01-10 12:00:...|20130110| 10|  1|    1|                2|\n",
      "|2013-01-11 12:00:...|20130111| 11|  1|    1|                2|\n",
      "|2013-01-12 12:00:...|20130112| 12|  1|    1|                2|\n",
      "|2013-01-14 12:00:...|20130114| 14|  1|    1|                3|\n",
      "|2013-01-15 12:00:...|20130115| 15|  1|    1|                3|\n",
      "|2013-01-16 12:00:...|20130116| 16|  1|    1|                3|\n",
      "|2013-01-17 12:00:...|20130117| 17|  1|    1|                3|\n",
      "|2013-01-18 12:00:...|20130118| 18|  1|    1|                3|\n",
      "|2013-01-19 12:00:...|20130119| 19|  1|    1|                3|\n",
      "|2013-01-21 12:00:...|20130121| 21|  1|    1|                4|\n",
      "|2013-01-22 12:00:...|20130122| 22|  1|    1|                4|\n",
      "|2013-01-23 12:00:...|20130123| 23|  1|    1|                4|\n",
      "+--------------------+--------+---+---+-----+-----------------+\n",
      "only showing top 20 rows\n",
      "\n"
     ]
    },
    {
     "data": {
      "text/plain": [
       "1070"
      ]
     },
     "execution_count": 55,
     "metadata": {},
     "output_type": "execute_result"
    }
   ],
   "source": [
    "sql = '''(SELECT DISTINCT FechaTransaccion AS Fecha FROM WWImportersTransactional.movimientos) AS Temp_fechas_movimientos'''\n",
    "fecha = obtener_dataframe_de_bd(source_db_connection_string, sql, db_user, db_psswd)\n",
    "\n",
    "# TRANSFORMACION \n",
    "#Convertir la fecha a un número que la representa en formato YYYYMMDD\n",
    "#Convertir Fecha a Formato Datetime de acuerdo con la regla de negocio.\n",
    "\n",
    "regex = \"([0-2]\\d{3}-(0[1-9]|1[0-2])-(0[1-9]|[1-2][0-9]|3[0-1]))\" # AAAAMMDD\n",
    "cumplenFormato = fecha.filter(fecha[\"Fecha\"].rlike(regex))\n",
    "noCumplenFormato = fecha.filter(~fecha[\"Fecha\"].rlike(regex))\n",
    "print(noCumplenFormato.count(), cumplenFormato.count())\n",
    "\n",
    "noCumplenFormato = noCumplenFormato.withColumn('ID_Fecha', f.udf(lambda d: int(datetime.strptime(d, '%b %d,%Y').strftime('%Y%m%d')), t.IntegerType())(f.col('Fecha')))\n",
    "noCumplenFormato = noCumplenFormato.withColumn('Fecha', f.udf(lambda d: datetime.strptime(d, '%b %d,%Y').strftime('%Y-%m-%d'), t.StringType())(f.col('Fecha')))\n",
    "\n",
    "cumplenFormato = cumplenFormato.withColumn('ID_Fecha', f.udf(lambda d: int(datetime.strptime(d, '%Y-%m-%d %H:%M:%S.%f0').strftime('%Y%m%d')), t.IntegerType())(f.col('Fecha')))\n",
    "\n",
    "fecha = noCumplenFormato.union(cumplenFormato)\n",
    "\n",
    "#Crear columnas día, mes y año de acuerdo con la fecha modificada a Datetime.\n",
    "\n",
    "from pyspark.sql.functions import dayofmonth, to_date, month, year, weekofyear\n",
    "fecha = fecha.withColumn('Dia',dayofmonth(fecha.Fecha))\n",
    "fecha = fecha.withColumn('Mes',month(fecha.Fecha))\n",
    "fecha = fecha.withColumn('Anioa',month(fecha.Fecha))\n",
    "\n",
    "#Obtener semana del año de la fecha según códgo ISO.\n",
    "\n",
    "fecha = fecha.withColumn('Numero_semana_ISO',weekofyear(fecha.Fecha))\n",
    "\n",
    "# Al contar con varios formatos en las transformaciones es posible que persistan los duplicados por lo que se\n",
    "#eliminana para contar con fechas duplicados y mejorar el rendimiento en los posteriores pasos.\n",
    "\n",
    "fecha = fecha.dropDuplicates([\"ID_Fecha\"])\n",
    "\n",
    "fecha.show()\n",
    "fecha.count()"
   ]
  },
  {
   "cell_type": "markdown",
   "metadata": {},
   "source": [
    "Se realiza la verificación que todos los registros en la tabla fecha cumplen con el formato establecido por el negocio YYYYMMDD"
   ]
  },
  {
   "cell_type": "code",
   "execution_count": 56,
   "metadata": {},
   "outputs": [
    {
     "name": "stdout",
     "output_type": "stream",
     "text": [
      "0 1070\n",
      "+-----+--------+---+---+-----+-----------------+\n",
      "|Fecha|ID_Fecha|Dia|Mes|Anioa|Numero_semana_ISO|\n",
      "+-----+--------+---+---+-----+-----------------+\n",
      "+-----+--------+---+---+-----+-----------------+\n",
      "\n",
      "None\n"
     ]
    },
    {
     "data": {
      "text/plain": [
       "(0, 1070)"
      ]
     },
     "execution_count": 56,
     "metadata": {},
     "output_type": "execute_result"
    }
   ],
   "source": [
    "# TRANSFORMACION\n",
    "regex = \"([0-2]\\d{3}-(0[1-9]|1[0-2])-(0[1-9]|[1-2][0-9]|3[0-1]))\"\n",
    "cumplenFormato = fecha.filter(fecha[\"fecha\"].rlike(regex))\n",
    "noCumplenFormato = fecha.filter(~fecha[\"fecha\"].rlike(regex))\n",
    "print(noCumplenFormato.count(), cumplenFormato.count())\n",
    "print(noCumplenFormato.show(5))\n",
    "noCumplenFormato = noCumplenFormato.withColumn('fecha', f.udf(lambda d: datetime.strptime(d, '%b %d,%Y').strftime('%Y-%m-%d'), t.StringType())(f.col('fecha')))\n",
    "ordenes = noCumplenFormato.union(cumplenFormato)\n",
    "noCumplenFormato.count(), ordenes.count()"
   ]
  },
  {
   "cell_type": "code",
   "execution_count": 57,
   "metadata": {},
   "outputs": [],
   "source": [
    "# CARGUE\n",
    "guardar_db(dest_db_connection_string,fecha,'Estudiante_73_202315.Fecha', db_user, db_psswd)"
   ]
  },
  {
   "attachments": {
    "8d134424-443c-4183-97d5-af000f6607a1.png": {
     "image/png": "[encoded data removed]"
    }
   },
   "cell_type": "markdown",
   "metadata": {},
   "source": [
    "![fecha.png](attachment:8d134424-443c-4183-97d5-af000f6607a1.png)"
   ]
  },
  {
   "cell_type": "markdown",
   "metadata": {},
   "source": [
    "# BLOQUE 4\n",
    "Bloque 4: Hecho Movimiento. Su fuente de datos es a tabla movimientos y la combinación entre las dimensiones Fecha, Producto, Proveedor, cliente, Tipo Transaccion.\n",
    "\n",
    "Se trabaja con la tabla Producto y Cliente entregadas por el negocio en las relaciones realizadas con la tabla Hecho_movimiento"
   ]
  },
  {
   "cell_type": "code",
   "execution_count": 58,
   "metadata": {},
   "outputs": [
    {
     "name": "stdout",
     "output_type": "stream",
     "text": [
      "+---------------+-------------+--------------------+-----+-------+----------------------+-------------------+-----------------+--------+--------------+\n",
      "|ID_Producto_DWH|ID_Producto_T|      NombreProducto|Marca|  Color|Necesita_refrigeracion|Dias_tiempo_entrega|PrecioRecomendado|Impuesto|PrecioUnitario|\n",
      "+---------------+-------------+--------------------+-----+-------+----------------------+-------------------+-----------------+--------+--------------+\n",
      "|              1|            1|USB missile launc...| null|Missing|                     0|                 14|               37|      15|            25|\n",
      "|              2|            4|USB food flash dr...| null|Missing|                     0|                 14|               48|      15|            32|\n",
      "|              3|            5|USB food flash dr...| null|Missing|                     0|                 14|               48|      15|            32|\n",
      "|              4|            6|USB food flash dr...| null|Missing|                     0|                 14|               48|      15|            32|\n",
      "|              5|            7|USB food flash dr...| null|Missing|                     0|                 14|               48|      15|            32|\n",
      "+---------------+-------------+--------------------+-----+-------+----------------------+-------------------+-----------------+--------+--------------+\n",
      "only showing top 5 rows\n",
      "\n"
     ]
    }
   ],
   "source": [
    "productos.show(5)"
   ]
  },
  {
   "cell_type": "code",
   "execution_count": 59,
   "metadata": {},
   "outputs": [
    {
     "name": "stdout",
     "output_type": "stream",
     "text": [
      "+--------------+------------+------------------+---------------+-----------------+--------------+----------------+-------------+-------------------+--------+\n",
      "|ID_Cliente_DWH|ID_Cliente_T|            Nombre|NombreCategoria|NombreGrupoCompra|ClienteFactura|ID_CiudadEntrega|LimiteCredito|FechaAperturaCuenta|DiasPago|\n",
      "+--------------+------------+------------------+---------------+-----------------+--------------+----------------+-------------+-------------------+--------+\n",
      "|             0|            |           Missing|        Missing|          Missing|             0|               0|             |                   |        |\n",
      "|             1|         807|     Gunnar Lohmus|     Gift Store|          Missing|           807|           35810|         3100|2013-01-01 00:00:00|       7|\n",
      "|             2|         816|        Harsha Huq|     Gift Store|          Missing|           816|            8892|         2400|2013-01-01 00:00:00|       7|\n",
      "|             3|         823|Francisca Laureano|     Gift Store|          Missing|           823|           17142|         3500|2013-01-01 00:00:00|       7|\n",
      "|             4|         825|    Jayanta Thakur|     Gift Store|          Missing|           825|           28367|         3000|2013-01-01 00:00:00|       7|\n",
      "+--------------+------------+------------------+---------------+-----------------+--------------+----------------+-------------+-------------------+--------+\n",
      "only showing top 5 rows\n",
      "\n"
     ]
    }
   ],
   "source": [
    "clientes.show(5)"
   ]
  },
  {
   "cell_type": "code",
   "execution_count": 60,
   "metadata": {},
   "outputs": [
    {
     "name": "stdout",
     "output_type": "stream",
     "text": [
      "+---------------------+----------+-----------------+---------+---------+-----------+---------------+----------------+--------+\n",
      "|TransaccionProductoID|ProductoID|TipoTransaccionID|ClienteID|InvoiceID|ProveedorID|OrdenDeCompraID|FechaTransaccion|Cantidad|\n",
      "+---------------------+----------+-----------------+---------+---------+-----------+---------------+----------------+--------+\n",
      "|                94344|       108|               10|    185.0|  19763.0|           |               |     Jan 20,2014|   -10.0|\n",
      "|                96548|       162|               10|    176.0|  20221.0|           |               |     Jan 28,2014|   -10.0|\n",
      "|                96560|       216|               10|    474.0|  20224.0|           |               |     Jan 28,2014|   -10.0|\n",
      "|                96568|        22|               10|    901.0|  20226.0|           |               |     Jan 28,2014|   -10.0|\n",
      "|                96648|        25|               10|    926.0|  20243.0|           |               |     Jan 28,2014|   -10.0|\n",
      "|                97822|        14|               10|    444.0|  20489.0|           |               |     Feb 01,2014|   -10.0|\n",
      "|                97832|        75|               10|    168.0|  20492.0|           |               |     Feb 01,2014|   -10.0|\n",
      "|               110483|        20|               10|    802.0|  23127.0|           |               |     Mar 25,2014|   -10.0|\n",
      "|               110500|        65|               10|    975.0|  23131.0|           |               |     Mar 25,2014|   -10.0|\n",
      "|               110506|       130|               10|    487.0|  23132.0|           |               |     Mar 25,2014|   -10.0|\n",
      "|               110525|       171|               10|    129.0|  23136.0|           |               |     Mar 25,2014|   -10.0|\n",
      "|               110526|       118|               10|    129.0|  23136.0|           |               |     Mar 25,2014|   -10.0|\n",
      "|               110551|       168|               10|    802.0|  23141.0|           |               |     Mar 25,2014|   -10.0|\n",
      "|               110606|        52|               10|     88.0|  23152.0|           |               |     Mar 25,2014|   -10.0|\n",
      "|               110624|       131|               10|    591.0|  23156.0|           |               |     Mar 25,2014|   -10.0|\n",
      "|               110634|       171|               10|    420.0|  23159.0|           |               |     Mar 25,2014|   -10.0|\n",
      "|               110673|       105|               10|    433.0|  23169.0|           |               |     Mar 25,2014|   -10.0|\n",
      "|               110687|       112|               10|   1027.0|  23172.0|           |               |     Mar 25,2014|   -10.0|\n",
      "|               110764|       170|               10|    593.0|  23189.0|           |               |     Mar 25,2014|   -10.0|\n",
      "|               110769|       132|               10|    601.0|  23190.0|           |               |     Mar 25,2014|   -10.0|\n",
      "+---------------------+----------+-----------------+---------+---------+-----------+---------------+----------------+--------+\n",
      "only showing top 20 rows\n",
      "\n"
     ]
    }
   ],
   "source": [
    "sql_tpmovi ='''(SELECT *\n",
    "                        FROM movimientos) AS Temp_movi'''\n",
    "tpMovi = obtener_dataframe_de_bd(source_db_connection_string, sql_tpmovi, db_user, db_psswd)\n",
    "tpMovi.show(20)"
   ]
  },
  {
   "cell_type": "markdown",
   "metadata": {},
   "source": [
    "Sobre los resultados del entendimiento de datos, Wide World Importers les comenta lo siguiente:\n",
    "\n",
    "Cada fila representa una transacción o movimiento de productos en el inventario\n",
    "\n",
    "Los días de pago no pueden ser negativos no tiene sentido para nuestro negocio. Por favor corregir multiplicando los datos negativos por -1.\n",
    "\n",
    "Sobre la regla de negocio dada para la actividad de entendimiento de datos “La cantidad máxima de productos movidos es 50 millones por transaccion”, el negocio revisó y encontró que efectivamente gracias a los avances ya puede mover más que la cantidad de 50 millones por transacción, por lo cual ajusta la regla de negocio.\n",
    "\n",
    "La falta de datos antes del 2014 es un error de extracción de datos. Los nuevos datos incluyen este año.\n",
    "\n",
    "Nuestro análisis concluye que la información que se ha duplicado totalmente no es útil. Por favor no tenerlos en cuenta.\n",
    "\n",
    "“El formato de fechas manejado es YYYY-MM-DD HH:MM:SS si tienen hora, minutos y segundos. De lo contrario el formato es YYYY-MM-DD”: En cuanto a formatos de fechas estamos de acuerdo con que los estandarizemos y el formato sea el especificado en la regla de negocio.\n",
    "\n",
    "Existen proveedores que tienen 2 filas una con un nombre y otra con el mismo nombre mas un “Inc” o “Ltd”. Unimos estos a un solo proveedor dado que se trató de un error de digitación.\n",
    "\n",
    "El código postal igual para todos nuestros proveedores es un error que también fue corregido.\n",
    "\n",
    "Cantidades negativas significan salidas de productos del inventario\n",
    "\n",
    "El negocio indica que las tablas de categoriasProveedores y TiposTransaccion fueron analizadas previamente, por su grupo de consultores.\n",
    "\n",
    "Los datos revisados por el negocio quedan en las tablas Proveedores y movimientos y estos son los que deben utilizar en el proceso ETL. \n",
    "\n",
    "Por otra parte, en las tablas ProveedoresCopia y movimientosCopia quedan los datos con errores en caso de que deseen revisar/ejecutar el ejercicio que realizó de entendimiento de datos.\n"
   ]
  },
  {
   "cell_type": "code",
   "execution_count": 61,
   "metadata": {},
   "outputs": [
    {
     "name": "stdout",
     "output_type": "stream",
     "text": [
      "64254 203046\n",
      "+---------------------+----------+-----------------+---------+---------+-----------+---------------+----------------+--------+\n",
      "|TransaccionProductoID|ProductoID|TipoTransaccionID|ClienteID|InvoiceID|ProveedorID|OrdenDeCompraID|FechaTransaccion|Cantidad|\n",
      "+---------------------+----------+-----------------+---------+---------+-----------+---------------+----------------+--------+\n",
      "|                94344|       108|               10|    185.0|  19763.0|           |               |        20140120|   -10.0|\n",
      "|                96548|       162|               10|    176.0|  20221.0|           |               |        20140128|   -10.0|\n",
      "|                96560|       216|               10|    474.0|  20224.0|           |               |        20140128|   -10.0|\n",
      "|                96568|        22|               10|    901.0|  20226.0|           |               |        20140128|   -10.0|\n",
      "|                96648|        25|               10|    926.0|  20243.0|           |               |        20140128|   -10.0|\n",
      "|                97822|        14|               10|    444.0|  20489.0|           |               |        20140201|   -10.0|\n",
      "|                97832|        75|               10|    168.0|  20492.0|           |               |        20140201|   -10.0|\n",
      "|               110483|        20|               10|    802.0|  23127.0|           |               |        20140325|   -10.0|\n",
      "|               110500|        65|               10|    975.0|  23131.0|           |               |        20140325|   -10.0|\n",
      "|               110506|       130|               10|    487.0|  23132.0|           |               |        20140325|   -10.0|\n",
      "|               110525|       171|               10|    129.0|  23136.0|           |               |        20140325|   -10.0|\n",
      "|               110526|       118|               10|    129.0|  23136.0|           |               |        20140325|   -10.0|\n",
      "|               110551|       168|               10|    802.0|  23141.0|           |               |        20140325|   -10.0|\n",
      "|               110606|        52|               10|     88.0|  23152.0|           |               |        20140325|   -10.0|\n",
      "|               110624|       131|               10|    591.0|  23156.0|           |               |        20140325|   -10.0|\n",
      "|               110634|       171|               10|    420.0|  23159.0|           |               |        20140325|   -10.0|\n",
      "|               110673|       105|               10|    433.0|  23169.0|           |               |        20140325|   -10.0|\n",
      "|               110687|       112|               10|   1027.0|  23172.0|           |               |        20140325|   -10.0|\n",
      "|               110764|       170|               10|    593.0|  23189.0|           |               |        20140325|   -10.0|\n",
      "|               110769|       132|               10|    601.0|  23190.0|           |               |        20140325|   -10.0|\n",
      "+---------------------+----------+-----------------+---------+---------+-----------+---------------+----------------+--------+\n",
      "only showing top 20 rows\n",
      "\n"
     ]
    }
   ],
   "source": [
    "#crea tabla temporal de fechas transformadas\n",
    "regex = \"([0-2]\\d{3}-(0[1-9]|1[0-2])-(0[1-9]|[1-2][0-9]|3[0-1]))\" # AAAAMMDD\n",
    "cumplenFormato = tpMovi.filter(tpMovi[\"FechaTransaccion\"].rlike(regex))\n",
    "noCumplenFormato = tpMovi.filter(~tpMovi[\"FechaTransaccion\"].rlike(regex))\n",
    "print(noCumplenFormato.count(), cumplenFormato.count())\n",
    "\n",
    "noCumplenFormato = noCumplenFormato.withColumn('FechaTransaccion', f.udf(lambda d: int(datetime.strptime(d, '%b %d,%Y').strftime('%Y%m%d')), t.IntegerType())(f.col('FechaTransaccion')))\n",
    "cumplenFormato = cumplenFormato.withColumn('FechaTransaccion', f.udf(lambda d: int(datetime.strptime(d, '%Y-%m-%d %H:%M:%S.%f0').strftime('%Y%m%d')), t.IntegerType())(f.col('FechaTransaccion')))\n",
    "\n",
    "tpMovi = noCumplenFormato.union(cumplenFormato)\n",
    "\n",
    "tpMovi.show()\n"
   ]
  },
  {
   "cell_type": "code",
   "execution_count": 62,
   "metadata": {},
   "outputs": [],
   "source": [
    "# Si hay campos nulos en mov al hacer join por el left outer join no se perderan y se utiliza como comodín \n",
    "#un id=0 que debe existir en todas las dimensiones.\n",
    "# Ese comodín representa el registro sin Dato en cualquiera de las dimensiones.\n",
    "# Debe adicionarle a todas las tablas el registro con identificador 0.\n",
    "# Se realiza el join con el resto de las domensiones incluyendo la Fecha para que la tabla quede completa.\n",
    "\n",
    "movi = productos.alias('pr').join(tpMovi.alias('tpm'), productos.ID_Producto_T == tpMovi.ProductoID,'left')\\\n",
    "                .join(proveedores.alias('p'),proveedores.ID_proveedor_T == tpMovi.ProveedorID,'left')\\\n",
    "                .join(clientes.alias('cl'), tpMovi.ClienteID == clientes.ID_Cliente_T,'left')\\\n",
    "                .join(tpTransaccion.alias('tpt'), tpMovi.TipoTransaccionID == tpTransaccion.ID_Tipo_transaccion_T,'left')\\\n",
    "                .join(fecha.alias('fc'),fecha.ID_Fecha == tpMovi.FechaTransaccion)\\\n",
    "                .select([col('fc.ID_FECHA'),col('pr.ID_Producto_DWH'),col('p.ID_Proveedor_DWH'),col('cl.ID_Cliente_DWH'),\n",
    "                           col('tpt.ID_tpTransaccion_DWH'),col('tpm.cantidad')])\\\n",
    "                  .fillna({'fc.ID_FECHA':0,'ID_Producto_DWH':0,'ID_Proveedor_DWH':0,'ID_Cliente_DWH': 0,'ID_tpTransaccion_DWH':0})"
   ]
  },
  {
   "cell_type": "markdown",
   "metadata": {},
   "source": [
    "Se calcula la cantidad de registro y columnas en la tabla de movimientos entregados por el negocio"
   ]
  },
  {
   "cell_type": "code",
   "execution_count": 63,
   "metadata": {},
   "outputs": [
    {
     "name": "stdout",
     "output_type": "stream",
     "text": [
      "\u001b[1mDimensión de movimientos: (267300, 236650, 6)\u001b[0m\n"
     ]
    }
   ],
   "source": [
    "rows = movi.count() \n",
    "unicos = movi.distinct().count()\n",
    "cols = len(movi.columns)\n",
    "print('\\033[1m'+f'Dimensión de movimientos: {(rows,unicos,cols)}'+'\\033[0m')"
   ]
  },
  {
   "cell_type": "markdown",
   "metadata": {},
   "source": [
    "Se  verifica que hay duplicados por lo que es necesario relizar la eliminación de los mismos\n",
    "\n",
    "Se crea un nuevo dataframe que va a tener toda la información del hecho movimiento transformada y lista para continuar el proceso de cargue."
   ]
  },
  {
   "cell_type": "code",
   "execution_count": 64,
   "metadata": {},
   "outputs": [
    {
     "name": "stdout",
     "output_type": "stream",
     "text": [
      "+-------------------+------+\n",
      "|Duplicate_indicator| count|\n",
      "+-------------------+------+\n",
      "|                  0|206008|\n",
      "|                  1| 61292|\n",
      "+-------------------+------+\n",
      "\n"
     ]
    }
   ],
   "source": [
    "movimientos=movi\n",
    "movimientos.join(\n",
    "    movimientos.groupBy(movimientos.columns).agg((f.count(\"*\")>1).cast(\"int\").alias(\"Duplicate_indicator\")),\n",
    "    on=movimientos.columns,\n",
    "    how=\"inner\"\n",
    ").groupBy(\"Duplicate_indicator\").count().orderBy(\"count\", ascending=False).show(5)"
   ]
  },
  {
   "cell_type": "code",
   "execution_count": 65,
   "metadata": {},
   "outputs": [
    {
     "name": "stdout",
     "output_type": "stream",
     "text": [
      "\u001b[34mDimensión de movimientos: (236650, 236650, 6)\u001b[0,0m\n"
     ]
    }
   ],
   "source": [
    "movi = movi.drop_duplicates()\n",
    "rows = movi.count() \n",
    "unicos = movi.distinct().count()\n",
    "cols = len(movi.columns)\n",
    "print(\"\\033[34m\"+f'Dimensión de movimientos: {(rows,unicos,cols)}'+\"\\033[0,0m\")"
   ]
  },
  {
   "cell_type": "markdown",
   "metadata": {},
   "source": [
    "Se tienen cuatro movimientos en la tabla de Hecho que no tienen cantidades se confirmará con el negocio para realizar la eliminación de estos regsitros aunque realmente teniendo presente que se cuenta con mas de 236.000 registros no representan inconvenientes para su eliminación"
   ]
  },
  {
   "cell_type": "code",
   "execution_count": 66,
   "metadata": {},
   "outputs": [
    {
     "name": "stdout",
     "output_type": "stream",
     "text": [
      "+--------+---------------+----------------+--------------+--------------------+--------+\n",
      "|ID_FECHA|ID_Producto_DWH|ID_Proveedor_DWH|ID_Cliente_DWH|ID_tpTransaccion_DWH|cantidad|\n",
      "+--------+---------------+----------------+--------------+--------------------+--------+\n",
      "|20150430|            201|               0|             0|                  11|     0.0|\n",
      "|20140131|            127|               0|             0|                  11|     0.0|\n",
      "|20150131|             34|               0|             0|                  11|     0.0|\n",
      "|20140131|            218|               0|             0|                  11|     0.0|\n",
      "+--------+---------------+----------------+--------------+--------------------+--------+\n",
      "\n"
     ]
    }
   ],
   "source": [
    "movi.filter(movi.cantidad == 0).show()"
   ]
  },
  {
   "cell_type": "code",
   "execution_count": 67,
   "metadata": {},
   "outputs": [
    {
     "data": {
      "text/plain": [
       "[('ID_FECHA', 'int'),\n",
       " ('ID_Producto_DWH', 'bigint'),\n",
       " ('ID_Proveedor_DWH', 'bigint'),\n",
       " ('ID_Cliente_DWH', 'int'),\n",
       " ('ID_tpTransaccion_DWH', 'bigint'),\n",
       " ('cantidad', 'double')]"
      ]
     },
     "execution_count": 67,
     "metadata": {},
     "output_type": "execute_result"
    }
   ],
   "source": [
    "datatypes = movi.dtypes\n",
    "datatypes"
   ]
  },
  {
   "cell_type": "markdown",
   "metadata": {},
   "source": [
    "Se hace una verificación del rango de fechas disponible en los datos con los cuales se evidencia que los movimientos incluyen datos desde el 2013."
   ]
  },
  {
   "cell_type": "code",
   "execution_count": 68,
   "metadata": {},
   "outputs": [
    {
     "name": "stdout",
     "output_type": "stream",
     "text": [
      "+-------------+\n",
      "|min(ID_FECHA)|\n",
      "+-------------+\n",
      "|     20130101|\n",
      "+-------------+\n",
      "\n",
      "+-------------+\n",
      "|max(ID_FECHA)|\n",
      "+-------------+\n",
      "|     20160531|\n",
      "+-------------+\n",
      "\n"
     ]
    }
   ],
   "source": [
    "#El formato de fechas manejado es YYYY-MM-DD HH:MM:SS\n",
    "movi.agg({\"ID_FECHA\": \"min\"}).show()\n",
    "movi.agg({\"ID_FECHA\": \"max\"}).show()\n"
   ]
  },
  {
   "cell_type": "code",
   "execution_count": 69,
   "metadata": {},
   "outputs": [
    {
     "name": "stdout",
     "output_type": "stream",
     "text": [
      "+--------+---------------+----------------+--------------+--------------------+--------+\n",
      "|ID_FECHA|ID_Producto_DWH|ID_Proveedor_DWH|ID_Cliente_DWH|ID_tpTransaccion_DWH|cantidad|\n",
      "+--------+---------------+----------------+--------------+--------------------+--------+\n",
      "|20141105|            181|               0|           441|                   9|   -24.0|\n",
      "|20140929|             29|               0|           487|                   9|    -2.0|\n",
      "|20150224|             29|               0|           444|                   9|    -9.0|\n",
      "|20150421|            222|               0|           638|                   9|   -48.0|\n",
      "|20151030|            123|               0|           613|                   9|   -10.0|\n",
      "+--------+---------------+----------------+--------------+--------------------+--------+\n",
      "only showing top 5 rows\n",
      "\n"
     ]
    }
   ],
   "source": [
    "movi.show(5)"
   ]
  },
  {
   "cell_type": "markdown",
   "metadata": {},
   "source": [
    "Se revisan las reglas del negocio:\n",
    "1.Los nombres de los proveedores se unificaron por lo que ya no presentan dos filas\n",
    "2.El código postal es único por cada proveedor\n",
    "3.Los proveedores responden a las compras de productos por lo que los movimientos negativos (10) no tienen proveedor y en la transformación se completaron con 0"
   ]
  },
  {
   "cell_type": "code",
   "execution_count": 70,
   "metadata": {},
   "outputs": [
    {
     "name": "stdout",
     "output_type": "stream",
     "text": [
      "+----------------+--------------+--------------------+--------------------+------------------+---------+-------------+\n",
      "|ID_Proveedor_DWH|ID_proveedor_T|              Nombre|           categoria|Contacto_Principal|Dias_Pago|Codigo_Postal|\n",
      "+----------------+--------------+--------------------+--------------------+------------------+---------+-------------+\n",
      "|               1|             1| A Datum Corporation| productos novedosos|        Reio Kabin|       14|        46077|\n",
      "|               2|             2|       Contoso, Ltd.| productos novedosos|   Hanna Mihhailov|        7|        98253|\n",
      "|               3|             3|Consolidated Mess...|servicios de mens...|      Kerstin Parn|       30|        94101|\n",
      "|               4|             4|      Fabrikam, Inc.|                ropa|       Bill Lawson|       30|        40351|\n",
      "|               5|             5|Graphic Design In...| productos novedosos|        Penny Buck|       14|        64847|\n",
      "|               6|             6| Humongous Insurance|servicios de seguros|Madelaine  Cartier|       14|        37770|\n",
      "|               7|             7|       Litware, Inc.|            embalaje|     Elias Myllari|       30|        95245|\n",
      "|               8|             8|  Lucerne Publishing| productos novedosos|       Prem Prabhu|       30|        37659|\n",
      "|               9|             9|      Nod Publishers| productos novedosos|      Marcos Costa|        7|        27906|\n",
      "|              10|            10|Northwind Electri...|            juguetes|   Eliza Soderberg|       30|         7860|\n",
      "|              11|            11|       Trey Research|servicios de mark...|      Donald Jones|        7|        57543|\n",
      "|              12|            12|   The Phone Company| productos novedosos|           Hai Dam|       30|        56732|\n",
      "|              13|            13|      Woodgrove Bank|servicios financi...|      Hubert Helms|        7|        94101|\n",
      "+----------------+--------------+--------------------+--------------------+------------------+---------+-------------+\n",
      "\n"
     ]
    }
   ],
   "source": [
    "proveedores.show()"
   ]
  },
  {
   "cell_type": "code",
   "execution_count": 71,
   "metadata": {},
   "outputs": [
    {
     "name": "stdout",
     "output_type": "stream",
     "text": [
      "+--------------+----+-----+-----+-----+-----+-----+-----+-----+-----+-----+-----+-----+\n",
      "|ID_proveedor_T|7860|27906|37659|37770|40351|46077|56732|57543|64847|94101|95245|98253|\n",
      "+--------------+----+-----+-----+-----+-----+-----+-----+-----+-----+-----+-----+-----+\n",
      "|             1|null| null| null| null| null|    1| null| null| null| null| null| null|\n",
      "|             2|null| null| null| null| null| null| null| null| null| null| null|    1|\n",
      "|             3|null| null| null| null| null| null| null| null| null|    1| null| null|\n",
      "|             4|null| null| null| null|    1| null| null| null| null| null| null| null|\n",
      "|             5|null| null| null| null| null| null| null| null|    1| null| null| null|\n",
      "|             6|null| null| null|    1| null| null| null| null| null| null| null| null|\n",
      "|             7|null| null| null| null| null| null| null| null| null| null|    1| null|\n",
      "|             8|null| null|    1| null| null| null| null| null| null| null| null| null|\n",
      "|             9|null|    1| null| null| null| null| null| null| null| null| null| null|\n",
      "|            10|   1| null| null| null| null| null| null| null| null| null| null| null|\n",
      "|            11|null| null| null| null| null| null| null|    1| null| null| null| null|\n",
      "|            12|null| null| null| null| null| null|    1| null| null| null| null| null|\n",
      "|            13|null| null| null| null| null| null| null| null| null|    1| null| null|\n",
      "+--------------+----+-----+-----+-----+-----+-----+-----+-----+-----+-----+-----+-----+\n",
      "\n"
     ]
    }
   ],
   "source": [
    "proveedores.groupBy('ID_proveedor_T').pivot('Codigo_Postal').count().show()"
   ]
  },
  {
   "cell_type": "code",
   "execution_count": 72,
   "metadata": {},
   "outputs": [
    {
     "name": "stdout",
     "output_type": "stream",
     "text": [
      "+----------------+------+----+----+\n",
      "|ID_Proveedor_DWH|     9|  10|  11|\n",
      "+----------------+------+----+----+\n",
      "|               0|228248|null|  44|\n",
      "|               7|  null|2474|null|\n",
      "|               5|  null|  42|null|\n",
      "|               1|  null|  10|null|\n",
      "|              10|  null|  18|null|\n",
      "|              12|  null|  15|null|\n",
      "|               2|  null|   3|null|\n",
      "|               4|  null|5796|null|\n",
      "+----------------+------+----+----+\n",
      "\n"
     ]
    }
   ],
   "source": [
    "movi.groupBy('ID_Proveedor_DWH').pivot('ID_tpTransaccion_DWH').count().show()"
   ]
  },
  {
   "cell_type": "code",
   "execution_count": 73,
   "metadata": {},
   "outputs": [
    {
     "name": "stdout",
     "output_type": "stream",
     "text": [
      "+--------+---------------+----------------+--------------+--------------------+--------+\n",
      "|ID_FECHA|ID_Producto_DWH|ID_Proveedor_DWH|ID_Cliente_DWH|ID_tpTransaccion_DWH|cantidad|\n",
      "+--------+---------------+----------------+--------------+--------------------+--------+\n",
      "|20140430|            196|               0|             0|                  11|    -5.0|\n",
      "|20140430|             74|               0|             0|                  11|     2.0|\n",
      "|20150430|            137|               0|             0|                  11|    -3.0|\n",
      "+--------+---------------+----------------+--------------+--------------------+--------+\n",
      "only showing top 3 rows\n",
      "\n"
     ]
    }
   ],
   "source": [
    "movi.filter(movi.ID_tpTransaccion_DWH == \"11\" ).show(3)"
   ]
  },
  {
   "cell_type": "code",
   "execution_count": 74,
   "metadata": {},
   "outputs": [],
   "source": [
    "guardar_db(dest_db_connection_string, movi,'Estudiante_73_202315.Hecho_Movimiento', db_user, db_psswd)"
   ]
  },
  {
   "attachments": {
    "e1004dbc-8492-427b-8775-39a00ba88f3e.png": {
     "image/png": "[encoded data removed]"
    }
   },
   "cell_type": "markdown",
   "metadata": {},
   "source": [
    "![hecho_movimiento.png](attachment:e1004dbc-8492-427b-8775-39a00ba88f3e.png)"
   ]
  },
  {
   "cell_type": "markdown",
   "metadata": {},
   "source": [
    "# Resultado de consultas\n",
    "De acuerdo con el modelo planteado se puede validar que las tablas finales responden a los campos definidos a los tipos y a las reglas de negocio expresadas."
   ]
  },
  {
   "cell_type": "code",
   "execution_count": 76,
   "metadata": {},
   "outputs": [
    {
     "name": "stdout",
     "output_type": "stream",
     "text": [
      "+--------+---------------+----------------+--------------+--------------------+--------+\n",
      "|ID_FECHA|ID_Producto_DWH|ID_Proveedor_DWH|ID_Cliente_DWH|ID_tpTransaccion_DWH|cantidad|\n",
      "+--------+---------------+----------------+--------------+--------------------+--------+\n",
      "|20150930|            181|               0|           432|                   9|   -24.0|\n",
      "|20141105|            181|               0|           441|                   9|   -24.0|\n",
      "|20150226|            181|               0|           434|                   9|   -12.0|\n",
      "|20140929|             29|               0|           487|                   9|    -2.0|\n",
      "|20150514|            108|               0|           604|                   9|    -1.0|\n",
      "|20150224|             29|               0|           444|                   9|    -9.0|\n",
      "|20140108|            108|               0|           311|                   9|    -7.0|\n",
      "|20150421|            222|               0|           638|                   9|   -48.0|\n",
      "|20141226|            108|               0|           330|                   9|    -3.0|\n",
      "|20151030|            123|               0|           613|                   9|   -10.0|\n",
      "|20150224|            222|               0|           576|                   9|   -72.0|\n",
      "|20150319|            123|               0|           409|                   9|    -7.0|\n",
      "|20151112|            149|               0|           590|                   9|    -2.0|\n",
      "|20160107|            149|               0|           610|                   9|   -10.0|\n",
      "|20140530|            149|               0|           289|                   9|    -4.0|\n",
      "|20141223|            149|               0|           375|                   9|    -1.0|\n",
      "|20140114|            154|               0|           150|                   9|    -6.0|\n",
      "|20141229|            215|               0|           185|                   9|   -48.0|\n",
      "|20151120|             39|               0|           568|                   9|   -20.0|\n",
      "|20141212|            140|               0|           444|                   9|   -60.0|\n",
      "+--------+---------------+----------------+--------------+--------------------+--------+\n",
      "only showing top 20 rows\n",
      "\n"
     ]
    }
   ],
   "source": [
    "sql = '''(SELECT  * FROM Estudiante_73_202315.Hecho_Movimiento) AS Temp_hecho'''\n",
    "df = obtener_dataframe_de_bd(source_db_connection_string, sql, db_user, db_psswd)\n",
    "df.show()"
   ]
  },
  {
   "cell_type": "code",
   "execution_count": 77,
   "metadata": {},
   "outputs": [
    {
     "name": "stdout",
     "output_type": "stream",
     "text": [
      "\u001b[1mDimensión de Hecho_movimientos: (236650, 236650, 6)\u001b[0m\n"
     ]
    }
   ],
   "source": [
    "rows = df.count() \n",
    "unicos = df.distinct().count()\n",
    "cols = len(df.columns)\n",
    "print('\\033[1m'+f'Dimensión de Hecho_movimientos: {(rows,unicos,cols)}'+'\\033[0m')"
   ]
  },
  {
   "cell_type": "code",
   "execution_count": 78,
   "metadata": {},
   "outputs": [
    {
     "data": {
      "text/plain": [
       "[('ID_FECHA', 'int'),\n",
       " ('ID_Producto_DWH', 'bigint'),\n",
       " ('ID_Proveedor_DWH', 'bigint'),\n",
       " ('ID_Cliente_DWH', 'int'),\n",
       " ('ID_tpTransaccion_DWH', 'bigint'),\n",
       " ('cantidad', 'double')]"
      ]
     },
     "execution_count": 78,
     "metadata": {},
     "output_type": "execute_result"
    }
   ],
   "source": [
    "df.dtypes"
   ]
  },
  {
   "cell_type": "code",
   "execution_count": 79,
   "metadata": {},
   "outputs": [
    {
     "name": "stdout",
     "output_type": "stream",
     "text": [
      "+--------------+---+----+----+\n",
      "|ID_Cliente_DWH|  9|  10|  11|\n",
      "+--------------+---+----+----+\n",
      "|           471|389|null|null|\n",
      "|           463|312|null|null|\n",
      "|           148|348|null|null|\n",
      "|           496|314|null|null|\n",
      "|           243|385|null|null|\n",
      "|           392|346|null|null|\n",
      "|           540|329|null|null|\n",
      "|           623|347|null|null|\n",
      "|           516|331|null|null|\n",
      "|            31|359|null|null|\n",
      "|           451|419|null|null|\n",
      "|           580|360|null|null|\n",
      "|           137|436|null|null|\n",
      "|           251|339|null|null|\n",
      "|            85|333|null|null|\n",
      "|            65|239|null|null|\n",
      "|           458|362|null|null|\n",
      "|           255|366|null|null|\n",
      "|            53|290|null|null|\n",
      "|           588|323|null|null|\n",
      "+--------------+---+----+----+\n",
      "only showing top 20 rows\n",
      "\n"
     ]
    }
   ],
   "source": [
    "df.groupBy('ID_Cliente_DWH').pivot('ID_tpTransaccion_DWH').count().show()"
   ]
  },
  {
   "cell_type": "code",
   "execution_count": 80,
   "metadata": {},
   "outputs": [
    {
     "name": "stdout",
     "output_type": "stream",
     "text": [
      "+--------+---------------+----------------+--------------+--------------------+--------+\n",
      "|ID_FECHA|ID_Producto_DWH|ID_Proveedor_DWH|ID_Cliente_DWH|ID_tpTransaccion_DWH|cantidad|\n",
      "+--------+---------------+----------------+--------------+--------------------+--------+\n",
      "|       0|              0|               0|             0|                   0|       0|\n",
      "+--------+---------------+----------------+--------------+--------------------+--------+\n",
      "\n"
     ]
    }
   ],
   "source": [
    "df.select([count(when(isnan(c) | col(c).isNull() , c)).alias(c) for c in df.columns]\n",
    "   ).show()"
   ]
  },
  {
   "cell_type": "code",
   "execution_count": 81,
   "metadata": {},
   "outputs": [],
   "source": [
    "def contar_vacios(df):\n",
    "    resultados = []\n",
    "    for c in df.columns:\n",
    "        vacios = df.filter(df[c].isNull()).count()+df.where(df[c] =='').count()\n",
    "        if vacios!=0:\n",
    "            print('número de vacíos para columna '+c+': '+str( vacios ))\n",
    "            resultados.append(vacios)\n",
    "    return resultados"
   ]
  },
  {
   "cell_type": "code",
   "execution_count": 82,
   "metadata": {},
   "outputs": [
    {
     "name": "stdout",
     "output_type": "stream",
     "text": [
      "detalles de hecho_movimiento: \n",
      "Total productos únicos: \n",
      "227\n",
      "+-------------+\n",
      "|min(ID_FECHA)|\n",
      "+-------------+\n",
      "|     20130101|\n",
      "+-------------+\n",
      "\n",
      "+-------------+\n",
      "|max(ID_FECHA)|\n",
      "+-------------+\n",
      "|     20160531|\n",
      "+-------------+\n",
      "\n"
     ]
    }
   ],
   "source": [
    "print('detalles de hecho_movimiento: ')\n",
    "columnas_vacias_ordenes = contar_vacios(df)\n",
    "print('Total productos únicos: ')\n",
    "print(df.select(\"ID_Producto_DWH\").distinct().count())\n",
    "df.agg({'ID_FECHA': 'Min'}).show()\n",
    "df.agg({'ID_FECHA': 'Max'}).show()"
   ]
  },
  {
   "cell_type": "markdown",
   "metadata": {},
   "source": [
    "Se corrobora que cada fila del Hecho_movimiento corresponde a la transacción o movimiento de productos en el inventario de acuerdo con el tipo de transaccion; la tabla no presenta valores nulos o vacíos en ninguna de sus columnas, se cuentan con 236.650 registros con 6 columnas de información incluyendo identificadores que permiten complementar información de cada transacción realizada como cliente, producto, proveedor, fechas de operación ipología y cantidad del movimiento.\n",
    "\n",
    "Las dimensiones del modelo tambien se ajustaron de acuerdo con las reglas y se encuentran disponibles para la ejecución de la consultoría de acuerdo con la analítica 1.0"
   ]
  },
  {
   "cell_type": "code",
   "execution_count": 85,
   "metadata": {},
   "outputs": [],
   "source": [
    "#Se cargan los dataframes desde la base de datos\n",
    "sql_proveedor = 'Estudiante_73_202315.proveedor'\n",
    "sql_Cliente = 'Estudiante_73_202315.Cliente'\n",
    "sql_producto = 'Estudiante_73_202315.Producto'\n",
    "sql_fecha = 'Estudiante_73_202315.Fecha'\n",
    "sql_TipoTransaccion = 'Estudiante_73_202315.TipoTransaccion'\n",
    "\n",
    "prove = obtener_dataframe_de_bd(source_db_connection_string, sql_proveedor, db_user, db_psswd)\n",
    "client = obtener_dataframe_de_bd(source_db_connection_string, sql_Cliente, db_user, db_psswd)\n",
    "produc = obtener_dataframe_de_bd(source_db_connection_string, sql_producto, db_user, db_psswd)\n",
    "fech = obtener_dataframe_de_bd(source_db_connection_string, sql_fecha, db_user, db_psswd)\n",
    "TipoT = obtener_dataframe_de_bd(source_db_connection_string, sql_TipoTransaccion, db_user, db_psswd)"
   ]
  },
  {
   "cell_type": "code",
   "execution_count": 86,
   "metadata": {},
   "outputs": [
    {
     "name": "stdout",
     "output_type": "stream",
     "text": [
      "\u001b[1mTABLA: Proveedores\u001b[0m\n",
      "\u001b[1mDimensión de Proveedores: (13, 7)\u001b[0m\n",
      "\u001b[1mLas dimensiones de los datos trabajados son:\u001b[0m\n",
      "Número de filas: 13\n",
      "Número únicos: 13\n",
      "Número duplicados: 0\n",
      "Número de columnas: 7\n",
      "----------------------------------------------------------------------------------------------------\n",
      "+----------------+--------------+------+---------+------------------+---------+-------------+\n",
      "|ID_Proveedor_DWH|ID_proveedor_T|Nombre|categoria|Contacto_Principal|Dias_Pago|Codigo_Postal|\n",
      "+----------------+--------------+------+---------+------------------+---------+-------------+\n",
      "|               0|             0|     0|        0|                 0|        0|            0|\n",
      "+----------------+--------------+------+---------+------------------+---------+-------------+\n",
      "\n",
      "\u001b[1mTABLA: Clientes\u001b[0m\n",
      "\u001b[1mDimensión de Clientes: (664, 10)\u001b[0m\n",
      "\u001b[1mLas dimensiones de los datos trabajados son:\u001b[0m\n",
      "Número de filas: 664\n",
      "Número únicos: 664\n",
      "Número duplicados: 0\n",
      "Número de columnas: 10\n",
      "----------------------------------------------------------------------------------------------------\n",
      "+--------------+------------+------+---------------+-----------------+--------------+----------------+-------------+-------------------+--------+\n",
      "|ID_Cliente_DWH|ID_Cliente_T|Nombre|NombreCategoria|NombreGrupoCompra|ClienteFactura|ID_CiudadEntrega|LimiteCredito|FechaAperturaCuenta|DiasPago|\n",
      "+--------------+------------+------+---------------+-----------------+--------------+----------------+-------------+-------------------+--------+\n",
      "|             0|           0|     0|              0|                0|             0|               0|          402|                  0|       0|\n",
      "+--------------+------------+------+---------------+-----------------+--------------+----------------+-------------+-------------------+--------+\n",
      "\n",
      "\u001b[1mTABLA: Productos\u001b[0m\n",
      "\u001b[1mDimensión de Productos: (227, 10)\u001b[0m\n",
      "\u001b[1mLas dimensiones de los datos trabajados son:\u001b[0m\n",
      "Número de filas: 227\n",
      "Número únicos: 227\n",
      "Número duplicados: 0\n",
      "Número de columnas: 10\n",
      "----------------------------------------------------------------------------------------------------\n",
      "+---------------+-------------+--------------+-----+-----+----------------------+-------------------+-----------------+--------+--------------+\n",
      "|ID_Producto_DWH|ID_Producto_T|NombreProducto|Marca|Color|Necesita_refrigeracion|Dias_tiempo_entrega|PrecioRecomendado|Impuesto|PrecioUnitario|\n",
      "+---------------+-------------+--------------+-----+-----+----------------------+-------------------+-----------------+--------+--------------+\n",
      "|              0|            0|             0|  209|    0|                     0|                  0|                0|       0|             0|\n",
      "+---------------+-------------+--------------+-----+-----+----------------------+-------------------+-----------------+--------+--------------+\n",
      "\n",
      "\u001b[1mTABLA: Fechas\u001b[0m\n",
      "\u001b[1mDimensión de Fechas: (1070, 6)\u001b[0m\n",
      "\u001b[1mLas dimensiones de los datos trabajados son:\u001b[0m\n",
      "Número de filas: 1070\n",
      "Número únicos: 1070\n",
      "Número duplicados: 0\n",
      "Número de columnas: 6\n",
      "----------------------------------------------------------------------------------------------------\n",
      "+-----+--------+---+---+-----+-----------------+\n",
      "|Fecha|ID_Fecha|Dia|Mes|Anioa|Numero_semana_ISO|\n",
      "+-----+--------+---+---+-----+-----------------+\n",
      "|    0|       0|  0|  0|    0|                0|\n",
      "+-----+--------+---+---+-----+-----------------+\n",
      "\n",
      "\u001b[1mTABLA: TipoTransaccion\u001b[0m\n",
      "\u001b[1mDimensión de TipoTransaccion: (12, 3)\u001b[0m\n",
      "\u001b[1mLas dimensiones de los datos trabajados son:\u001b[0m\n",
      "Número de filas: 12\n",
      "Número únicos: 12\n",
      "Número duplicados: 0\n",
      "Número de columnas: 3\n",
      "----------------------------------------------------------------------------------------------------\n",
      "+--------------------+---------------------+----+\n",
      "|ID_tpTransaccion_DWH|ID_Tipo_transaccion_T|Tipo|\n",
      "+--------------------+---------------------+----+\n",
      "|                   0|                    0|   0|\n",
      "+--------------------+---------------------+----+\n",
      "\n"
     ]
    }
   ],
   "source": [
    "lista_dimensiones = {\"Proveedores\":prove, \"Clientes\":client, \"Productos\":produc, \"Fechas\":fech,\"TipoTransaccion\":TipoT}  \n",
    "\n",
    "for k,v in lista_dimensiones.items():\n",
    "    rows = v.count() \n",
    "    unicos = v.distinct().count()\n",
    "    cols = len(v.columns)\n",
    "    print(\"\\033[1m\"+f\"TABLA: {k}\"+\"\\033[0m\")\n",
    "    print('\\033[1m'+f'Dimensión de {k}: {(rows,cols)}'+'\\033[0m')\n",
    "    print('\\033[1m' +\"Las dimensiones de los datos trabajados son:\"+'\\033[0m')\n",
    "    print(\"Número de filas: \" + str(rows)) \n",
    "    print(\"Número únicos: \" + str(unicos))\n",
    "    print(\"Número duplicados: \"+ str(rows-unicos))\n",
    "    print(\"Número de columnas: \" + str(cols))\n",
    "    print(\"-\"*100)\n",
    "    v.select([count(when(isnan(c) | col(c).isNull() , c)).alias(c) for c in v.columns]\n",
    "   ).show()\n",
    "    \n"
   ]
  },
  {
   "cell_type": "code",
   "execution_count": null,
   "metadata": {},
   "outputs": [],
   "source": []
  },
  {
   "cell_type": "code",
   "execution_count": null,
   "metadata": {},
   "outputs": [],
   "source": []
  },
  {
   "cell_type": "code",
   "execution_count": null,
   "metadata": {},
   "outputs": [],
   "source": []
  },
  {
   "cell_type": "markdown",
   "metadata": {
    "id": "euvEeguv86v9"
   },
   "source": [
    "## 4. Cierre\n",
    "Completado este tutorial, ya sabe cómo realizar ETL básicos en PySpark.\n"
   ]
  },
  {
   "cell_type": "code",
   "execution_count": null,
   "metadata": {},
   "outputs": [],
   "source": []
  },
  {
   "cell_type": "markdown",
   "metadata": {
    "id": "AaFNpgeW86v9"
   },
   "source": [
    "## 5. Información adicional\n",
    "\n",
    "Si quiere conocer más sobre PySpark la guía más detallada es la documentación oficial, la cual puede encontrar acá: https://spark.apache.org/docs/latest/api/python/index.html <br>\n",
    "Para ir directamente a la documentación de PySpark SQL, donde está la información sobre los DataFrames, haga clic en este enlace: https://spark.apache.org/docs/latest/api/python/pyspark.sql.html <br>\n",
    "\n",
    "El Capítulo 2 del libro <i>Learn PySpark : Build Python-based Machine Learning and Deep Learning Models, New York: Apress. 2019</i> de Pramod Singh contiene muchos ejemplos útiles, puede encontrarlo en la biblioteca virtual de la universidad."
   ]
  },
  {
   "cell_type": "markdown",
   "metadata": {
    "id": "7kIcwffv86v-"
   },
   "source": [
    "## 6. Preguntas frecuentes\n",
    "\n",
    "- Si al intentar escribir un <i>dataframe</i> obtiene un error en el formato: \n",
    "    ```\n",
    "    path file:<PATH>/dw/<PATH> already exists.;\n",
    "    ```\n",
    "    Borre la carpeta indicada en el error y vuelva a intentar.\n",
    "\n",
    "- Si al ejecutar su código obtiene el error: \n",
    "    ```\n",
    "    ValueError: Cannot run multiple SparkContexts at once; existing SparkContext(app=tutorial ETL PySpark, master=local) created by __init__ at <ipython-input-4-64455da959dd>:92 \n",
    "\n",
    "    ```\n",
    "    reinicie el kernel del notebook y vuelva a intentar."
   ]
  },
  {
   "cell_type": "code",
   "execution_count": null,
   "metadata": {
    "id": "6J9jYwEJ86v-"
   },
   "outputs": [],
   "source": []
  }
 ],
 "metadata": {
  "colab": {
   "collapsed_sections": [
    "vtE61qk986vx",
    "X9Oou0g986vy",
    "B5kFkHTD86vz",
    "ddFhEOmL86vz",
    "MuvVgJ4R86v0",
    "BZjDeVYd86v1",
    "_7xbgfCk86v1",
    "Rh_102Yy86v1",
    "HogvCqW_86v2",
    "9rKmT9jd86v2",
    "R9SnkMUH86v3",
    "k8O1GvOd86v3",
    "Mo633Vpg86v3",
    "i36NawhX86v4",
    "LvgnsPfK86v4",
    "dTv_CIOT86v5",
    "N9f10qpB86v9"
   ],
   "name": "MISW-ETL-TutorialETL.ipynb",
   "provenance": []
  },
  "kernelspec": {
   "display_name": "Python 3 (ipykernel)",
   "language": "python",
   "name": "python3"
  },
  "language_info": {
   "codemirror_mode": {
    "name": "ipython",
    "version": 3
   },
   "file_extension": ".py",
   "mimetype": "text/x-python",
   "name": "python",
   "nbconvert_exporter": "python",
   "pygments_lexer": "ipython3",
   "version": "3.7.13"
  }
 },
 "nbformat": 4,
 "nbformat_minor": 4
}
